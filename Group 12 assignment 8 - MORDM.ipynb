{
 "cells": [
  {
   "cell_type": "markdown",
   "metadata": {},
   "source": [
    "# Multi-objective robust decision making (MORDM)\n",
    "\n",
    "\n",
    "This exercise demostrates the application of MORDM on the lake model, which was used in earlier exercises.\n",
    "\n",
    "MORDM has four main steps:\n",
    "\n",
    "(i)\t    **problem formulation** based on a systems analytical problem definition framework \n",
    "\n",
    "(ii)\t**searching** for candidate solutions that optimize multiple objectives by using multi-objective evolutionary algorithms \n",
    "\n",
    "(iii)\tgenerating an ensemble of scenarios to **explore** the effects of uncertainties \n",
    "\n",
    "(iv)\tusing **scenario discovery** to detect the vulnerabilities of candidate solutions and improving thecandidate solutions\n",
    "\n",
    "\n",
    "\n",
    "## Step 1: Problem formulation\n",
    "### Lake Model\n",
    "\n",
    "Remember the lake problem used in the assignments in previous weeks. The lake problem is a hypothetical case where the inhabitants of a lake town decide on the amount of annual pollution they release into a lake. It the pollution in the lake passes a threshold, it will suffer irreversible eutrophication.\n",
    "\n",
    "The lake problem has 4 **outcome indicators**: \n",
    "   - **max_P**: maximum pollution over time, to be minimized\n",
    "   - **utility**: economic benefits obtained from polluting the lake, to be maximized\n",
    "   - **inertia**: the percentage of significant annual changes in the anthropogenic pollution rate, to be maximized\n",
    "   - **reliability**: the percentage of years where the pollution level is below the critical threshold, to be maximized\n",
    "    \n",
    "See the lake model exercise for the formulation of these outcome variables.\n",
    "\n",
    "The lake problem is characterized by both stochastic uncertainty and **deep uncertainty**. The stochastic uncertainty arises from the natural inflow. To reduce this stochastic uncertainty, multiple replications are performed and the average over the replication is taken. Deep uncertainty is presented by uncertainty about the mean $\\mu$ and standard deviation $sigma$ of the lognormal distribution characterizing the natural inflow, the natural removal rate of the lake $\\beta$, the natural recycling rate of the lake $q$, and the discount rate $\\delta$. The table below specifies the ranges for the deeply uncertain factors, as well as their best estimate or default values. \n",
    "\n",
    "|Parameter\t|Range\t        |Default value|\n",
    "|-----------|--------------:|------------:|\n",
    "|$\\mu$    \t|0.01 – 0.05\t|0.02         |\n",
    "|$\\sigma$\t|0.001 – 0.005 \t|0.0017       |\n",
    "|$b$      \t|0.1 – 0.45\t    |0.42         |\n",
    "|$q$\t    |2 – 4.5\t    |2            |\n",
    "|$\\delta$\t|0.93 – 0.99\t|0.98         |\n",
    "\n",
    "\n",
    "The lake problem in previous assignments had 100 decision **levers**, meaning that the decision makers independently decide on the amount of anthropogenic pollution at every time step (100). Then a 'policy' was a set of values for these 100 levers, which you composed by sampling from the range [0, 0.1].   \n",
    "\n",
    "In this exercise, we will use a more advanced way of deciding on the amout of anhtropogenic polution. We will use a **closed loop** version of the lake model, meaning that $a_t$ (anthropogenic pollution) is dependent on $X_t$ (the pollution level at time t). For instance, the rate of anthropogenic pollutions is lowered if the pollution level is approaching a critical threshold. Here, we use \"cubic radial basis functions\" following [Quinn et al. 2017](http://www.sciencedirect.com/science/article/pii/S1364815216302250) and formulate $a_t$ as follows:\n",
    "\n",
    "\\begin{equation}\n",
    "    a_{t} =  min\\Bigg(max\\bigg(\\sum\\limits_{j=1}^{n} w_{j}\\left\\vert{\\frac{X_{t,i}-c_{j}}{r_{j}}}\\right\\vert^3, 0.01\\bigg), 0.1\\Bigg) \\\\\n",
    "    s.t. \\\\\n",
    "    -2 \\leq c_{j} \\leq 2 \\\\\n",
    "    0 \\leq r_{j} \\leq 2 \\\\ \n",
    "    0 \\leq w_{j} \\leq 1 \\\\\n",
    "    \\sum\\limits_{j=1}^{n} w_{j} = 1\n",
    "\\end{equation}\n",
    "\n",
    "\n",
    "The parameters that define this function also define the pollution strategy over time. Hence, the decision **levers** are the five parameters of this functions, namely $c_1$, $c_2$, $r_1$, $r_2$ and $w_1$. ($w_2$ = 1 - $w_1$).\n",
    "\n",
    "Note:: i is index for the realization, given m realizations; j is the index for the radial basis function, given 2 radial basis functions. \n",
    "\n",
    "**To formulate this problem, do the following:**\n",
    "\n",
    "**1) Import the lake model function from dps_lake_model.py**\n",
    "\n",
    "**2) Create an ema_workbench interface for this problem, with corresponding uncertainties, levers and outcomes as specified above**\n",
    "\n"
   ]
  },
  {
   "cell_type": "code",
   "execution_count": 2,
   "metadata": {
    "jupyter": {
     "outputs_hidden": true
    }
   },
   "outputs": [],
   "source": [
    "from ema_workbench import (Model, RealParameter, ScalarOutcome)\n",
    "\n",
    "import math\n",
    "import numpy as np\n",
    "\n",
    "import pandas as pd\n",
    "import seaborn as sns\n",
    "import matplotlib.pyplot as plt\n",
    "\n",
    "from dps_lake_model import lake_model\n",
    "\n",
    "#define model\n",
    "model = Model('dpslakemodel', function=lake_model)\n",
    "\n",
    "#specify uncertainties\n",
    "model.uncertainties = [RealParameter('b', 0.1, 0.45),\n",
    "                       RealParameter('q', 2.0, 4.5),\n",
    "                       RealParameter('mean', 0.01, 0.05),\n",
    "                       RealParameter('stdev', 0.001, 0.005),\n",
    "                       RealParameter('delta', 0.93, 0.99)]\n",
    "\n",
    "# set levers\n",
    "model.levers = [RealParameter(\"c1\", -2, 2),\n",
    "                RealParameter(\"c2\", -2, 2),\n",
    "                RealParameter(\"r1\", 0, 2),\n",
    "                RealParameter(\"r2\", 0, 2),\n",
    "                RealParameter(\"w1\", 0, 1)]\n",
    "\n",
    "#specify outcomes\n",
    "model.outcomes = [ScalarOutcome('max_P', kind=ScalarOutcome.MINIMIZE),\n",
    "                  ScalarOutcome('utility', kind=ScalarOutcome.MAXIMIZE),\n",
    "                  ScalarOutcome('inertia', kind=ScalarOutcome.MAXIMIZE),\n",
    "                  ScalarOutcome('reliability', kind=ScalarOutcome.MAXIMIZE)]"
   ]
  },
  {
   "cell_type": "code",
   "execution_count": 3,
   "metadata": {},
   "outputs": [
    {
     "data": {
      "text/plain": [
       "<Logger EMA (DEBUG)>"
      ]
     },
     "execution_count": 3,
     "metadata": {},
     "output_type": "execute_result"
    }
   ],
   "source": [
    "from ema_workbench import (MultiprocessingEvaluator,\n",
    "                           perform_experiments, ema_logging)\n",
    "ema_logging.log_to_stderr(ema_logging.INFO)\n",
    "\n",
    "#with MultiprocessingEvaluator(model, n_processes=7) as evaluator:\n",
    "    #experiments, outcomes = evaluator.perform_experiments(scenarios=1000, policies=5)"
   ]
  },
  {
   "cell_type": "markdown",
   "metadata": {},
   "source": [
    "## Step 2: Searching for candidate solutions\n",
    "\n",
    "In the second step of MORDM, candidate strategies are identified which are pareto optimal conditional on a reference scenario. These candiate strategies are identified through search with multi-objective evolutionary algorithms, that iteratively evaluate a large number of alternatives on multiple objectives until they find the best candidates. For instance, when we optimize the lake model levers, the lake model function will be called for each candidate evaluation, and the corresponding four objective values will be generated. \n",
    "\n",
    "Take the model interface developed in the previous step and use the optimization functionality of the workbench to identify the pareto approximate set of solutions. Try the following:\n",
    "* change the epsilon values between 0.01 and 0.1, what changes, why?\n",
    "* change the number of function evaluations from 1000 to 10.000 (this requires using multiprocessing unless you are very patient). What is the difference? You can use  convergence as explained in assignment 7 for this"
   ]
  },
  {
   "cell_type": "code",
   "execution_count": 4,
   "metadata": {},
   "outputs": [],
   "source": [
    "#with MOEA optimize...epsilon 0.1, nfe 1000\n",
    "#with MultiprocessingEvaluator(model) as evaluator:\n",
    "#    results = evaluator.optimize(nfe=1000, epsilons=[0.1, 0.1, 0.1, 0.1])"
   ]
  },
  {
   "cell_type": "code",
   "execution_count": 5,
   "metadata": {},
   "outputs": [],
   "source": [
    "#with MOEA optimize...epsilon 0.01, nfe 1000\n",
    "#with MultiprocessingEvaluator(model) as evaluator:\n",
    "#    results = evaluator.optimize(nfe=1000, epsilons=[0.01, 0.01, 0.01, 0.01])"
   ]
  },
  {
   "cell_type": "code",
   "execution_count": 6,
   "metadata": {},
   "outputs": [],
   "source": [
    "#with MOEA optimize...epsilon 0.1, nfe 10000\n",
    "#with MultiprocessingEvaluator(model) as evaluator:\n",
    "#    results = evaluator.optimize(nfe=10000, epsilons=[0.1, 0.1, 0.1, 0.1])"
   ]
  },
  {
   "cell_type": "code",
   "execution_count": 7,
   "metadata": {},
   "outputs": [],
   "source": [
    "#checking convergence\n",
    "from ema_workbench.em_framework.optimization import (HyperVolume,\n",
    "                                                     EpsilonProgress)\n",
    "\n",
    "model.outcomes = [ScalarOutcome('max_P', kind=ScalarOutcome.MINIMIZE,\n",
    "                               expected_range=(0,5)),\n",
    "                  ScalarOutcome('utility', kind=ScalarOutcome.MAXIMIZE,\n",
    "                               expected_range=(0,2)),\n",
    "                  ScalarOutcome('inertia', kind=ScalarOutcome.MAXIMIZE,\n",
    "                               expected_range=(0,1)),\n",
    "                  ScalarOutcome('reliability', kind=ScalarOutcome.MAXIMIZE,\n",
    "                               expected_range=(0,1))]\n",
    "    \n",
    "convergence_metrics = [HyperVolume.from_outcomes(model.outcomes),\n",
    "                       EpsilonProgress()]"
   ]
  },
  {
   "cell_type": "code",
   "execution_count": 8,
   "metadata": {},
   "outputs": [
    {
     "name": "stderr",
     "output_type": "stream",
     "text": [
      "[MainProcess/INFO] pool started\n",
      "[MainProcess/INFO] generation 0: 0/10000 nfe\n",
      "[MainProcess/INFO] generation 5: 497/10000 nfe\n",
      "[MainProcess/INFO] generation 10: 992/10000 nfe\n",
      "[MainProcess/INFO] generation 15: 1486/10000 nfe\n",
      "[MainProcess/INFO] generation 20: 1978/10000 nfe\n",
      "[MainProcess/INFO] generation 25: 2468/10000 nfe\n",
      "[MainProcess/INFO] generation 30: 2963/10000 nfe\n",
      "[MainProcess/INFO] generation 35: 3461/10000 nfe\n",
      "[MainProcess/INFO] generation 40: 3958/10000 nfe\n",
      "[MainProcess/INFO] generation 45: 4455/10000 nfe\n",
      "[MainProcess/INFO] generation 50: 4948/10000 nfe\n",
      "[MainProcess/INFO] generation 55: 5445/10000 nfe\n",
      "[MainProcess/INFO] generation 60: 5936/10000 nfe\n",
      "[MainProcess/INFO] generation 65: 6434/10000 nfe\n",
      "[MainProcess/INFO] generation 70: 6931/10000 nfe\n",
      "[MainProcess/INFO] generation 75: 7426/10000 nfe\n",
      "[MainProcess/INFO] generation 80: 7920/10000 nfe\n",
      "[MainProcess/INFO] generation 85: 8417/10000 nfe\n",
      "[MainProcess/INFO] generation 90: 8915/10000 nfe\n",
      "[MainProcess/INFO] generation 95: 9411/10000 nfe\n",
      "[MainProcess/INFO] generation 100: 9905/10000 nfe\n",
      "[MainProcess/INFO] optimization completed, found 234 solutions\n",
      "[MainProcess/INFO] terminating pool\n"
     ]
    }
   ],
   "source": [
    "#checking\n",
    "with MultiprocessingEvaluator(model) as evaluator:\n",
    "    results, convergence = evaluator.optimize(nfe=10000, searchover='levers',\n",
    "                                    epsilons=[0.01, 0.01, 0.01, 0.01],\n",
    "                                    convergence=convergence_metrics)"
   ]
  },
  {
   "cell_type": "code",
   "execution_count": 9,
   "metadata": {},
   "outputs": [
    {
     "data": {
      "image/png": "[encoded data removed]",
      "text/plain": [
       "<Figure size 576x288 with 2 Axes>"
      ]
     },
     "metadata": {
      "needs_background": "light"
     },
     "output_type": "display_data"
    }
   ],
   "source": [
    "fig, (ax1, ax2) = plt.subplots(ncols=2, sharex=True, figsize=(8,4))\n",
    "ax1.plot(convergence.nfe, convergence.epsilon_progress)\n",
    "ax1.set_ylabel('$\\epsilon$-progress')\n",
    "ax2.plot(convergence.nfe, convergence.hypervolume)\n",
    "ax2.set_ylabel('hypervolume')\n",
    "\n",
    "ax1.set_xlabel('number of function evaluations')\n",
    "ax2.set_xlabel('number of function evaluations')\n",
    "plt.show()"
   ]
  },
  {
   "cell_type": "code",
   "execution_count": 10,
   "metadata": {
    "scrolled": false
   },
   "outputs": [
    {
     "name": "stderr",
     "output_type": "stream",
     "text": [
      "[MainProcess/INFO] pool started\n",
      "[MainProcess/INFO] generation 0: 0/10000 nfe\n",
      "[MainProcess/INFO] generation 5: 500/10000 nfe\n",
      "[MainProcess/INFO] generation 10: 998/10000 nfe\n",
      "[MainProcess/INFO] generation 15: 1496/10000 nfe\n",
      "[MainProcess/INFO] generation 20: 1989/10000 nfe\n",
      "[MainProcess/INFO] generation 25: 2484/10000 nfe\n",
      "[MainProcess/INFO] generation 30: 2981/10000 nfe\n",
      "[MainProcess/INFO] generation 35: 3477/10000 nfe\n",
      "[MainProcess/INFO] generation 40: 3973/10000 nfe\n",
      "[MainProcess/INFO] generation 45: 4467/10000 nfe\n",
      "[MainProcess/INFO] generation 50: 4956/10000 nfe\n",
      "[MainProcess/INFO] generation 55: 5453/10000 nfe\n",
      "[MainProcess/INFO] generation 60: 5951/10000 nfe\n",
      "[MainProcess/INFO] generation 65: 6447/10000 nfe\n",
      "[MainProcess/INFO] generation 70: 6943/10000 nfe\n",
      "[MainProcess/INFO] generation 75: 7436/10000 nfe\n",
      "[MainProcess/INFO] generation 80: 7934/10000 nfe\n",
      "[MainProcess/INFO] generation 85: 8429/10000 nfe\n",
      "[MainProcess/INFO] generation 90: 8926/10000 nfe\n",
      "[MainProcess/INFO] generation 95: 9426/10000 nfe\n",
      "[MainProcess/INFO] generation 100: 9917/10000 nfe\n",
      "[MainProcess/INFO] optimization completed, found 43 solutions\n",
      "[MainProcess/INFO] terminating pool\n"
     ]
    }
   ],
   "source": [
    "#with MOEA optimize...epsilon 0.05, nfe 10000\n",
    "with MultiprocessingEvaluator(model) as evaluator:\n",
    "    results = evaluator.optimize(nfe=10000, epsilons=[0.05, 0.05, 0.05, 0.05])"
   ]
  },
  {
   "cell_type": "code",
   "execution_count": 11,
   "metadata": {},
   "outputs": [
    {
     "data": {
      "image/png": "[encoded data removed]",
      "text/plain": [
       "<Figure size 576x576 with 1 Axes>"
      ]
     },
     "metadata": {
      "needs_background": "light"
     },
     "output_type": "display_data"
    }
   ],
   "source": [
    "import matplotlib.pyplot as plt\n",
    "from mpl_toolkits.mplot3d import Axes3D  \n",
    "\n",
    "outcomes = results.loc[:, ['max_P', 'utility', 'reliability', 'inertia']]\n",
    "\n",
    "fig = plt.figure(figsize=(8,8))\n",
    "ax = fig.add_subplot(111, projection='3d')\n",
    "ax.scatter(outcomes.max_P, outcomes.utility, outcomes.reliability)\n",
    "ax.set_xlabel('max. P')\n",
    "ax.set_ylabel('utility')\n",
    "ax.set_zlabel('reliability')\n",
    "plt.show()"
   ]
  },
  {
   "cell_type": "code",
   "execution_count": 12,
   "metadata": {},
   "outputs": [
    {
     "data": {
      "text/html": [
       "<div>\n",
       "<style scoped>\n",
       "    .dataframe tbody tr th:only-of-type {\n",
       "        vertical-align: middle;\n",
       "    }\n",
       "\n",
       "    .dataframe tbody tr th {\n",
       "        vertical-align: top;\n",
       "    }\n",
       "\n",
       "    .dataframe thead th {\n",
       "        text-align: right;\n",
       "    }\n",
       "</style>\n",
       "<table border=\"1\" class=\"dataframe\">\n",
       "  <thead>\n",
       "    <tr style=\"text-align: right;\">\n",
       "      <th></th>\n",
       "      <th>c1</th>\n",
       "      <th>c2</th>\n",
       "      <th>r1</th>\n",
       "      <th>r2</th>\n",
       "      <th>w1</th>\n",
       "      <th>max_P</th>\n",
       "      <th>utility</th>\n",
       "      <th>inertia</th>\n",
       "      <th>reliability</th>\n",
       "    </tr>\n",
       "  </thead>\n",
       "  <tbody>\n",
       "    <tr>\n",
       "      <th>0</th>\n",
       "      <td>0.316361</td>\n",
       "      <td>-0.143538</td>\n",
       "      <td>0.279375</td>\n",
       "      <td>1.488724</td>\n",
       "      <td>0.621346</td>\n",
       "      <td>0.227088</td>\n",
       "      <td>0.551502</td>\n",
       "      <td>0.9900</td>\n",
       "      <td>1.0000</td>\n",
       "    </tr>\n",
       "    <tr>\n",
       "      <th>1</th>\n",
       "      <td>0.256824</td>\n",
       "      <td>-0.025995</td>\n",
       "      <td>0.061955</td>\n",
       "      <td>1.101225</td>\n",
       "      <td>0.213750</td>\n",
       "      <td>1.195764</td>\n",
       "      <td>1.070467</td>\n",
       "      <td>0.9832</td>\n",
       "      <td>0.5753</td>\n",
       "    </tr>\n",
       "    <tr>\n",
       "      <th>2</th>\n",
       "      <td>0.261404</td>\n",
       "      <td>0.779020</td>\n",
       "      <td>0.066114</td>\n",
       "      <td>1.630577</td>\n",
       "      <td>0.511301</td>\n",
       "      <td>0.530026</td>\n",
       "      <td>0.708552</td>\n",
       "      <td>0.9881</td>\n",
       "      <td>0.8741</td>\n",
       "    </tr>\n",
       "    <tr>\n",
       "      <th>3</th>\n",
       "      <td>0.256824</td>\n",
       "      <td>0.008454</td>\n",
       "      <td>0.060618</td>\n",
       "      <td>1.084168</td>\n",
       "      <td>0.192531</td>\n",
       "      <td>0.331991</td>\n",
       "      <td>0.606548</td>\n",
       "      <td>0.9810</td>\n",
       "      <td>0.9553</td>\n",
       "    </tr>\n",
       "    <tr>\n",
       "      <th>4</th>\n",
       "      <td>0.261404</td>\n",
       "      <td>0.816181</td>\n",
       "      <td>0.066114</td>\n",
       "      <td>1.630577</td>\n",
       "      <td>0.511301</td>\n",
       "      <td>1.550585</td>\n",
       "      <td>1.255689</td>\n",
       "      <td>0.9808</td>\n",
       "      <td>0.4224</td>\n",
       "    </tr>\n",
       "  </tbody>\n",
       "</table>\n",
       "</div>"
      ],
      "text/plain": [
       "         c1        c2        r1        r2        w1     max_P   utility  \\\n",
       "0  0.316361 -0.143538  0.279375  1.488724  0.621346  0.227088  0.551502   \n",
       "1  0.256824 -0.025995  0.061955  1.101225  0.213750  1.195764  1.070467   \n",
       "2  0.261404  0.779020  0.066114  1.630577  0.511301  0.530026  0.708552   \n",
       "3  0.256824  0.008454  0.060618  1.084168  0.192531  0.331991  0.606548   \n",
       "4  0.261404  0.816181  0.066114  1.630577  0.511301  1.550585  1.255689   \n",
       "\n",
       "   inertia  reliability  \n",
       "0   0.9900       1.0000  \n",
       "1   0.9832       0.5753  \n",
       "2   0.9881       0.8741  \n",
       "3   0.9810       0.9553  \n",
       "4   0.9808       0.4224  "
      ]
     },
     "execution_count": 12,
     "metadata": {},
     "output_type": "execute_result"
    }
   ],
   "source": [
    "results.head()"
   ]
  },
  {
   "cell_type": "markdown",
   "metadata": {},
   "source": [
    "**plot the tradeoffs you have found using a parallel axis plot**\n",
    "\n",
    "We can visualize these tradeoffs on **parallel axis plots**. In these plots, each dimension is shown as a vertical axis. Each solution is represented by a line on this plot, which crosses the objective axes at the corresponsing value. You can use the [parcoords functionality](https://emaworkbench.readthedocs.io/en/latest/ema_documentation/analysis/parcoords.html) for this that comes with the ema_workbench. Ensure that the direction of desirability is the same for the four objectives.|\n",
    "\n"
   ]
  },
  {
   "cell_type": "code",
   "execution_count": 13,
   "metadata": {
    "jupyter": {
     "outputs_hidden": true
    }
   },
   "outputs": [
    {
     "data": {
      "image/png": "[encoded data removed]",
      "text/plain": [
       "<Figure size 432x288 with 3 Axes>"
      ]
     },
     "metadata": {},
     "output_type": "display_data"
    }
   ],
   "source": [
    "from ema_workbench.analysis import parcoords\n",
    "\n",
    "limits = parcoords.get_limits(outcomes)\n",
    "axes = parcoords.ParallelAxes(limits)\n",
    "axes.plot(outcomes)\n",
    "\n",
    "# we invert this axis so direction of desirability is the same \n",
    "axes.invert_axis('max_P') \n",
    "plt.show()"
   ]
  },
  {
   "cell_type": "markdown",
   "metadata": {},
   "source": [
    "**What does this plot tell us about the tradeoffs and conflicting objectives?**"
   ]
  },
  {
   "cell_type": "markdown",
   "metadata": {},
   "source": [
    "#### Answer\n",
    "* There is a tradeoff between utility, max_P and reliability (i.e. when utility is maximized, max_P and reliability are the opposite of what they need to be).\n",
    "* There is also a tradeoff between reliability and max_P and inertia (when reliability is maximized, max_P and inertia are the opposite of what they should be)"
   ]
  },
  {
   "cell_type": "markdown",
   "metadata": {},
   "source": [
    "## Step 3: Re-evaluate candidate solutions under uncertainty\n",
    "\n",
    "We now have a large number of candidate solutions (policies), we can re-evaluate them over the various deeply uncertain factors to assess their robustness against uncertainties.\n",
    "\n",
    "For this robustness evaluation, we need to explore the scenarios for each solution. It means that, if we would like to run for instance 1000 scenarios for each solution, we might have to execute a very large number of runs.\n",
    "\n",
    "Here, to simplify the case, let's suppose that decision makers have a hard constrain on *reliability*. No solution with less than 90% reliability is acceptable for them. Therefore, we can reduce the size of the solution set according to this constraint. \n",
    "\n",
    "**Apply this constraint of reliability on the results, and create a new dataframe named new_reults**\n"
   ]
  },
  {
   "cell_type": "code",
   "execution_count": 14,
   "metadata": {},
   "outputs": [
    {
     "name": "stderr",
     "output_type": "stream",
     "text": [
      "[MainProcess/INFO] pool started\n",
      "[MainProcess/INFO] generation 0: 0/10000 nfe\n",
      "[MainProcess/INFO] generation 5: 493/10000 nfe\n",
      "[MainProcess/INFO] generation 10: 987/10000 nfe\n",
      "[MainProcess/INFO] generation 15: 1486/10000 nfe\n",
      "[MainProcess/INFO] generation 20: 1982/10000 nfe\n",
      "[MainProcess/INFO] generation 25: 2477/10000 nfe\n",
      "[MainProcess/INFO] generation 30: 2969/10000 nfe\n",
      "[MainProcess/INFO] generation 35: 3468/10000 nfe\n",
      "[MainProcess/INFO] generation 40: 3965/10000 nfe\n",
      "[MainProcess/INFO] generation 45: 4458/10000 nfe\n",
      "[MainProcess/INFO] generation 50: 4952/10000 nfe\n",
      "[MainProcess/INFO] generation 55: 5451/10000 nfe\n",
      "[MainProcess/INFO] generation 60: 5948/10000 nfe\n",
      "[MainProcess/INFO] generation 65: 6442/10000 nfe\n",
      "[MainProcess/INFO] generation 70: 6933/10000 nfe\n",
      "[MainProcess/INFO] generation 75: 7429/10000 nfe\n",
      "[MainProcess/INFO] generation 80: 7923/10000 nfe\n",
      "[MainProcess/INFO] generation 85: 8419/10000 nfe\n",
      "[MainProcess/INFO] generation 90: 8913/10000 nfe\n",
      "[MainProcess/INFO] generation 95: 9412/10000 nfe\n",
      "[MainProcess/INFO] generation 100: 9904/10000 nfe\n",
      "[MainProcess/INFO] generation 105: 9980/10000 nfe\n",
      "[MainProcess/INFO] optimization completed, found 4 solutions\n",
      "[MainProcess/INFO] terminating pool\n"
     ]
    }
   ],
   "source": [
    "from ema_workbench import Constraint\n",
    "\n",
    "constraints = [Constraint(\"min reliability\", outcome_names=\"reliability\",\n",
    "                          function=lambda x:max(0, 0.9-x))]\n",
    "\n",
    "with MultiprocessingEvaluator(model) as evaluator:\n",
    "    new_results = evaluator.optimize(nfe=10000, epsilons=[0.05, 0.05, 0.05, 0.05],\n",
    "                                    constraints=constraints)"
   ]
  },
  {
   "cell_type": "code",
   "execution_count": 15,
   "metadata": {},
   "outputs": [
    {
     "data": {
      "text/html": [
       "<div>\n",
       "<style scoped>\n",
       "    .dataframe tbody tr th:only-of-type {\n",
       "        vertical-align: middle;\n",
       "    }\n",
       "\n",
       "    .dataframe tbody tr th {\n",
       "        vertical-align: top;\n",
       "    }\n",
       "\n",
       "    .dataframe thead th {\n",
       "        text-align: right;\n",
       "    }\n",
       "</style>\n",
       "<table border=\"1\" class=\"dataframe\">\n",
       "  <thead>\n",
       "    <tr style=\"text-align: right;\">\n",
       "      <th></th>\n",
       "      <th>c1</th>\n",
       "      <th>c2</th>\n",
       "      <th>r1</th>\n",
       "      <th>r2</th>\n",
       "      <th>w1</th>\n",
       "      <th>max_P</th>\n",
       "      <th>utility</th>\n",
       "      <th>inertia</th>\n",
       "      <th>reliability</th>\n",
       "    </tr>\n",
       "  </thead>\n",
       "  <tbody>\n",
       "    <tr>\n",
       "      <th>0</th>\n",
       "      <td>0.208128</td>\n",
       "      <td>0.633807</td>\n",
       "      <td>0.492617</td>\n",
       "      <td>1.340447</td>\n",
       "      <td>0.973905</td>\n",
       "      <td>0.099900</td>\n",
       "      <td>0.270017</td>\n",
       "      <td>0.99</td>\n",
       "      <td>1.0</td>\n",
       "    </tr>\n",
       "    <tr>\n",
       "      <th>1</th>\n",
       "      <td>0.329022</td>\n",
       "      <td>0.270176</td>\n",
       "      <td>0.447137</td>\n",
       "      <td>1.270343</td>\n",
       "      <td>0.843394</td>\n",
       "      <td>0.190989</td>\n",
       "      <td>0.517271</td>\n",
       "      <td>0.99</td>\n",
       "      <td>1.0</td>\n",
       "    </tr>\n",
       "    <tr>\n",
       "      <th>2</th>\n",
       "      <td>0.239697</td>\n",
       "      <td>0.516573</td>\n",
       "      <td>0.332634</td>\n",
       "      <td>1.359193</td>\n",
       "      <td>0.749984</td>\n",
       "      <td>0.148139</td>\n",
       "      <td>0.431204</td>\n",
       "      <td>0.99</td>\n",
       "      <td>1.0</td>\n",
       "    </tr>\n",
       "    <tr>\n",
       "      <th>3</th>\n",
       "      <td>0.332685</td>\n",
       "      <td>0.574072</td>\n",
       "      <td>0.343326</td>\n",
       "      <td>1.498519</td>\n",
       "      <td>0.730984</td>\n",
       "      <td>0.224717</td>\n",
       "      <td>0.551096</td>\n",
       "      <td>0.99</td>\n",
       "      <td>1.0</td>\n",
       "    </tr>\n",
       "  </tbody>\n",
       "</table>\n",
       "</div>"
      ],
      "text/plain": [
       "         c1        c2        r1        r2        w1     max_P   utility  \\\n",
       "0  0.208128  0.633807  0.492617  1.340447  0.973905  0.099900  0.270017   \n",
       "1  0.329022  0.270176  0.447137  1.270343  0.843394  0.190989  0.517271   \n",
       "2  0.239697  0.516573  0.332634  1.359193  0.749984  0.148139  0.431204   \n",
       "3  0.332685  0.574072  0.343326  1.498519  0.730984  0.224717  0.551096   \n",
       "\n",
       "   inertia  reliability  \n",
       "0     0.99          1.0  \n",
       "1     0.99          1.0  \n",
       "2     0.99          1.0  \n",
       "3     0.99          1.0  "
      ]
     },
     "execution_count": 15,
     "metadata": {},
     "output_type": "execute_result"
    }
   ],
   "source": [
    "new_results.head()"
   ]
  },
  {
   "cell_type": "markdown",
   "metadata": {},
   "source": [
    "\n",
    "**From new_results, which is the reduced dataframe of candidate solutions, make a list of policies in a format that can be inputed to the *perform_experiments* function of the EMA workbench.**\n",
    "\n",
    "*hint: you need to transform each policy to a dict, and then use this dict as input for the Policy class that comes with the workbench*"
   ]
  },
  {
   "cell_type": "code",
   "execution_count": 16,
   "metadata": {
    "jupyter": {
     "outputs_hidden": true
    }
   },
   "outputs": [],
   "source": [
    "#transforming policies into dicts\n",
    "pols = new_results.loc[:,[\"c1\", \"c2\", \"r1\", \"r2\", \"w1\"]]"
   ]
  },
  {
   "cell_type": "code",
   "execution_count": 17,
   "metadata": {},
   "outputs": [],
   "source": [
    "from ema_workbench import (Policy)\n",
    "\n",
    "policies = []\n",
    "for i in range (len(pols)):\n",
    "    c1 = pols.iloc[i,0]\n",
    "    c2 = pols.iloc[i,1]\n",
    "    r1 = pols.iloc[i,2]\n",
    "    r2 = pols.iloc[i,3]\n",
    "    w1 = pols.iloc[i,4]\n",
    "    policies.append(Policy(f\"{i}\",**{\"c1\": c1, \"c2\": c2, \"r1\": r1, \"r2\": r2, \"w1\": w1}))"
   ]
  },
  {
   "cell_type": "markdown",
   "metadata": {},
   "source": [
    "**Perform 1000 scenarios for each of the policy options. Depending on how many solutions are left after implementing the constraint, consider using multiprocessing or ipyparallel to speed up calculations.**\n",
    "\n",
    "If you want to use ipyparallel, don't forget to start ipcluster."
   ]
  },
  {
   "cell_type": "code",
   "execution_count": 28,
   "metadata": {
    "jupyter": {
     "outputs_hidden": true
    }
   },
   "outputs": [
    {
     "name": "stderr",
     "output_type": "stream",
     "text": [
      "[MainProcess/INFO] pool started\n",
      "[MainProcess/INFO] performing 1000 scenarios * 4 policies * 1 model(s) = 4000 experiments\n",
      "[MainProcess/INFO] 400 cases completed\n",
      "[MainProcess/INFO] 800 cases completed\n",
      "[MainProcess/INFO] 1200 cases completed\n",
      "[MainProcess/INFO] 1600 cases completed\n",
      "[MainProcess/INFO] 2000 cases completed\n",
      "[MainProcess/INFO] 2400 cases completed\n",
      "[MainProcess/INFO] 2800 cases completed\n",
      "[MainProcess/INFO] 3200 cases completed\n",
      "[MainProcess/INFO] 3600 cases completed\n",
      "[MainProcess/INFO] 4000 cases completed\n",
      "[MainProcess/INFO] experiments finished\n",
      "[MainProcess/INFO] terminating pool\n"
     ]
    }
   ],
   "source": [
    "with MultiprocessingEvaluator(model) as evaluator:\n",
    "    policyexperiments,policyoutcomes = perform_experiments(model, 1000, policies, evaluator=evaluator)"
   ]
  },
  {
   "cell_type": "markdown",
   "metadata": {},
   "source": [
    "We can now evaluate the **robustness** of each of the policy options based on these scenario results. We can calculate the robustness of a policy option in terms of its performance on an outcome indicator across the 1000 scenarios. In other words, we can identify how robust a policy is in terms of each outcome indicator, and investigate the robustness tradeoffs.  \n",
    "\n",
    "There are multiple metrics to quantify robustness. On of them is the *signal to noise ratio*, which is simply the mean of a dataset divided by its standard deviation. For instance, for an outcome indicator to be maximized, we prefer a high average value across the scenarios, and a low standard deviation, implying a narrow uncertaintiy range. Therefore, we want to maximize the signal-to-noise ratio. For an outcome indicator to be minimized, a lower mean and a lower standard deviation is preferred. Therefore the formulation is different.\n",
    "\n",
    "**Write a function to calculate the signal-to-noise ratio for both kinds of outcome indicators. Calculate the signal-to-noise ratios for each outcome and each policy option. Plot the tradeoffs on a parallel axis plot. Which solutions look like a good compromise policy?**"
   ]
  },
  {
   "cell_type": "code",
   "execution_count": 34,
   "metadata": {},
   "outputs": [
    {
     "data": {
      "text/html": [
       "<div>\n",
       "<style scoped>\n",
       "    .dataframe tbody tr th:only-of-type {\n",
       "        vertical-align: middle;\n",
       "    }\n",
       "\n",
       "    .dataframe tbody tr th {\n",
       "        vertical-align: top;\n",
       "    }\n",
       "\n",
       "    .dataframe thead th {\n",
       "        text-align: right;\n",
       "    }\n",
       "</style>\n",
       "<table border=\"1\" class=\"dataframe\">\n",
       "  <thead>\n",
       "    <tr style=\"text-align: right;\">\n",
       "      <th></th>\n",
       "      <th>b</th>\n",
       "      <th>delta</th>\n",
       "      <th>mean</th>\n",
       "      <th>q</th>\n",
       "      <th>stdev</th>\n",
       "      <th>c1</th>\n",
       "      <th>c2</th>\n",
       "      <th>r1</th>\n",
       "      <th>r2</th>\n",
       "      <th>w1</th>\n",
       "      <th>scenario</th>\n",
       "      <th>policy</th>\n",
       "      <th>model</th>\n",
       "    </tr>\n",
       "  </thead>\n",
       "  <tbody>\n",
       "    <tr>\n",
       "      <th>0</th>\n",
       "      <td>0.436363</td>\n",
       "      <td>0.958591</td>\n",
       "      <td>0.049116</td>\n",
       "      <td>2.129422</td>\n",
       "      <td>0.003937</td>\n",
       "      <td>0.208128</td>\n",
       "      <td>0.633807</td>\n",
       "      <td>0.492617</td>\n",
       "      <td>1.340447</td>\n",
       "      <td>0.973905</td>\n",
       "      <td>3000</td>\n",
       "      <td>0</td>\n",
       "      <td>dpslakemodel</td>\n",
       "    </tr>\n",
       "    <tr>\n",
       "      <th>1</th>\n",
       "      <td>0.111070</td>\n",
       "      <td>0.945625</td>\n",
       "      <td>0.038910</td>\n",
       "      <td>2.132686</td>\n",
       "      <td>0.003714</td>\n",
       "      <td>0.208128</td>\n",
       "      <td>0.633807</td>\n",
       "      <td>0.492617</td>\n",
       "      <td>1.340447</td>\n",
       "      <td>0.973905</td>\n",
       "      <td>3001</td>\n",
       "      <td>0</td>\n",
       "      <td>dpslakemodel</td>\n",
       "    </tr>\n",
       "    <tr>\n",
       "      <th>2</th>\n",
       "      <td>0.253610</td>\n",
       "      <td>0.936804</td>\n",
       "      <td>0.016888</td>\n",
       "      <td>4.147119</td>\n",
       "      <td>0.002901</td>\n",
       "      <td>0.208128</td>\n",
       "      <td>0.633807</td>\n",
       "      <td>0.492617</td>\n",
       "      <td>1.340447</td>\n",
       "      <td>0.973905</td>\n",
       "      <td>3002</td>\n",
       "      <td>0</td>\n",
       "      <td>dpslakemodel</td>\n",
       "    </tr>\n",
       "    <tr>\n",
       "      <th>3</th>\n",
       "      <td>0.205764</td>\n",
       "      <td>0.979914</td>\n",
       "      <td>0.010892</td>\n",
       "      <td>2.811520</td>\n",
       "      <td>0.001201</td>\n",
       "      <td>0.208128</td>\n",
       "      <td>0.633807</td>\n",
       "      <td>0.492617</td>\n",
       "      <td>1.340447</td>\n",
       "      <td>0.973905</td>\n",
       "      <td>3003</td>\n",
       "      <td>0</td>\n",
       "      <td>dpslakemodel</td>\n",
       "    </tr>\n",
       "    <tr>\n",
       "      <th>4</th>\n",
       "      <td>0.294242</td>\n",
       "      <td>0.971480</td>\n",
       "      <td>0.048869</td>\n",
       "      <td>2.033121</td>\n",
       "      <td>0.003695</td>\n",
       "      <td>0.208128</td>\n",
       "      <td>0.633807</td>\n",
       "      <td>0.492617</td>\n",
       "      <td>1.340447</td>\n",
       "      <td>0.973905</td>\n",
       "      <td>3004</td>\n",
       "      <td>0</td>\n",
       "      <td>dpslakemodel</td>\n",
       "    </tr>\n",
       "    <tr>\n",
       "      <th>...</th>\n",
       "      <td>...</td>\n",
       "      <td>...</td>\n",
       "      <td>...</td>\n",
       "      <td>...</td>\n",
       "      <td>...</td>\n",
       "      <td>...</td>\n",
       "      <td>...</td>\n",
       "      <td>...</td>\n",
       "      <td>...</td>\n",
       "      <td>...</td>\n",
       "      <td>...</td>\n",
       "      <td>...</td>\n",
       "      <td>...</td>\n",
       "    </tr>\n",
       "    <tr>\n",
       "      <th>3995</th>\n",
       "      <td>0.288101</td>\n",
       "      <td>0.976717</td>\n",
       "      <td>0.014700</td>\n",
       "      <td>2.667761</td>\n",
       "      <td>0.002254</td>\n",
       "      <td>0.332685</td>\n",
       "      <td>0.574072</td>\n",
       "      <td>0.343326</td>\n",
       "      <td>1.498519</td>\n",
       "      <td>0.730984</td>\n",
       "      <td>3995</td>\n",
       "      <td>3</td>\n",
       "      <td>dpslakemodel</td>\n",
       "    </tr>\n",
       "    <tr>\n",
       "      <th>3996</th>\n",
       "      <td>0.123639</td>\n",
       "      <td>0.975046</td>\n",
       "      <td>0.011226</td>\n",
       "      <td>4.056704</td>\n",
       "      <td>0.001388</td>\n",
       "      <td>0.332685</td>\n",
       "      <td>0.574072</td>\n",
       "      <td>0.343326</td>\n",
       "      <td>1.498519</td>\n",
       "      <td>0.730984</td>\n",
       "      <td>3996</td>\n",
       "      <td>3</td>\n",
       "      <td>dpslakemodel</td>\n",
       "    </tr>\n",
       "    <tr>\n",
       "      <th>3997</th>\n",
       "      <td>0.340212</td>\n",
       "      <td>0.949320</td>\n",
       "      <td>0.015343</td>\n",
       "      <td>2.503780</td>\n",
       "      <td>0.001659</td>\n",
       "      <td>0.332685</td>\n",
       "      <td>0.574072</td>\n",
       "      <td>0.343326</td>\n",
       "      <td>1.498519</td>\n",
       "      <td>0.730984</td>\n",
       "      <td>3997</td>\n",
       "      <td>3</td>\n",
       "      <td>dpslakemodel</td>\n",
       "    </tr>\n",
       "    <tr>\n",
       "      <th>3998</th>\n",
       "      <td>0.145103</td>\n",
       "      <td>0.957456</td>\n",
       "      <td>0.022448</td>\n",
       "      <td>2.472122</td>\n",
       "      <td>0.002891</td>\n",
       "      <td>0.332685</td>\n",
       "      <td>0.574072</td>\n",
       "      <td>0.343326</td>\n",
       "      <td>1.498519</td>\n",
       "      <td>0.730984</td>\n",
       "      <td>3998</td>\n",
       "      <td>3</td>\n",
       "      <td>dpslakemodel</td>\n",
       "    </tr>\n",
       "    <tr>\n",
       "      <th>3999</th>\n",
       "      <td>0.367012</td>\n",
       "      <td>0.989528</td>\n",
       "      <td>0.044413</td>\n",
       "      <td>2.307520</td>\n",
       "      <td>0.004533</td>\n",
       "      <td>0.332685</td>\n",
       "      <td>0.574072</td>\n",
       "      <td>0.343326</td>\n",
       "      <td>1.498519</td>\n",
       "      <td>0.730984</td>\n",
       "      <td>3999</td>\n",
       "      <td>3</td>\n",
       "      <td>dpslakemodel</td>\n",
       "    </tr>\n",
       "  </tbody>\n",
       "</table>\n",
       "<p>4000 rows × 13 columns</p>\n",
       "</div>"
      ],
      "text/plain": [
       "             b     delta      mean         q     stdev        c1        c2  \\\n",
       "0     0.436363  0.958591  0.049116  2.129422  0.003937  0.208128  0.633807   \n",
       "1     0.111070  0.945625  0.038910  2.132686  0.003714  0.208128  0.633807   \n",
       "2     0.253610  0.936804  0.016888  4.147119  0.002901  0.208128  0.633807   \n",
       "3     0.205764  0.979914  0.010892  2.811520  0.001201  0.208128  0.633807   \n",
       "4     0.294242  0.971480  0.048869  2.033121  0.003695  0.208128  0.633807   \n",
       "...        ...       ...       ...       ...       ...       ...       ...   \n",
       "3995  0.288101  0.976717  0.014700  2.667761  0.002254  0.332685  0.574072   \n",
       "3996  0.123639  0.975046  0.011226  4.056704  0.001388  0.332685  0.574072   \n",
       "3997  0.340212  0.949320  0.015343  2.503780  0.001659  0.332685  0.574072   \n",
       "3998  0.145103  0.957456  0.022448  2.472122  0.002891  0.332685  0.574072   \n",
       "3999  0.367012  0.989528  0.044413  2.307520  0.004533  0.332685  0.574072   \n",
       "\n",
       "            r1        r2        w1 scenario policy         model  \n",
       "0     0.492617  1.340447  0.973905     3000      0  dpslakemodel  \n",
       "1     0.492617  1.340447  0.973905     3001      0  dpslakemodel  \n",
       "2     0.492617  1.340447  0.973905     3002      0  dpslakemodel  \n",
       "3     0.492617  1.340447  0.973905     3003      0  dpslakemodel  \n",
       "4     0.492617  1.340447  0.973905     3004      0  dpslakemodel  \n",
       "...        ...       ...       ...      ...    ...           ...  \n",
       "3995  0.343326  1.498519  0.730984     3995      3  dpslakemodel  \n",
       "3996  0.343326  1.498519  0.730984     3996      3  dpslakemodel  \n",
       "3997  0.343326  1.498519  0.730984     3997      3  dpslakemodel  \n",
       "3998  0.343326  1.498519  0.730984     3998      3  dpslakemodel  \n",
       "3999  0.343326  1.498519  0.730984     3999      3  dpslakemodel  \n",
       "\n",
       "[4000 rows x 13 columns]"
      ]
     },
     "execution_count": 34,
     "metadata": {},
     "output_type": "execute_result"
    }
   ],
   "source": [
    "policyexperiments"
   ]
  },
  {
   "cell_type": "code",
   "execution_count": 29,
   "metadata": {},
   "outputs": [
    {
     "data": {
      "text/plain": [
       "{'max_P': array([ 0.24552985, 10.19179698,  0.10874276, ...,  0.21196291,\n",
       "         7.69244335,  2.90421515]),\n",
       " 'utility': array([0.15657657, 0.58341891, 0.12795782, ..., 0.36339658, 0.76619158,\n",
       "        1.29375051]),\n",
       " 'inertia': array([0.99  , 0.9779, 0.99  , ..., 0.99  , 0.9764, 0.9732]),\n",
       " 'reliability': array([1.    , 0.02  , 1.    , ..., 1.    , 0.0396, 0.4605])}"
      ]
     },
     "execution_count": 29,
     "metadata": {},
     "output_type": "execute_result"
    }
   ],
   "source": [
    "policyoutcomes"
   ]
  },
  {
   "cell_type": "code",
   "execution_count": 30,
   "metadata": {},
   "outputs": [],
   "source": [
    "policyoutcomes = pd.DataFrame.from_dict(policyoutcomes)"
   ]
  },
  {
   "cell_type": "code",
   "execution_count": 31,
   "metadata": {},
   "outputs": [
    {
     "data": {
      "text/html": [
       "<div>\n",
       "<style scoped>\n",
       "    .dataframe tbody tr th:only-of-type {\n",
       "        vertical-align: middle;\n",
       "    }\n",
       "\n",
       "    .dataframe tbody tr th {\n",
       "        vertical-align: top;\n",
       "    }\n",
       "\n",
       "    .dataframe thead th {\n",
       "        text-align: right;\n",
       "    }\n",
       "</style>\n",
       "<table border=\"1\" class=\"dataframe\">\n",
       "  <thead>\n",
       "    <tr style=\"text-align: right;\">\n",
       "      <th></th>\n",
       "      <th>max_P</th>\n",
       "      <th>utility</th>\n",
       "      <th>inertia</th>\n",
       "      <th>reliability</th>\n",
       "    </tr>\n",
       "  </thead>\n",
       "  <tbody>\n",
       "    <tr>\n",
       "      <th>0</th>\n",
       "      <td>0.245530</td>\n",
       "      <td>0.156577</td>\n",
       "      <td>0.9900</td>\n",
       "      <td>1.0000</td>\n",
       "    </tr>\n",
       "    <tr>\n",
       "      <th>1</th>\n",
       "      <td>10.191797</td>\n",
       "      <td>0.583419</td>\n",
       "      <td>0.9779</td>\n",
       "      <td>0.0200</td>\n",
       "    </tr>\n",
       "    <tr>\n",
       "      <th>2</th>\n",
       "      <td>0.108743</td>\n",
       "      <td>0.127958</td>\n",
       "      <td>0.9900</td>\n",
       "      <td>1.0000</td>\n",
       "    </tr>\n",
       "    <tr>\n",
       "      <th>3</th>\n",
       "      <td>0.112311</td>\n",
       "      <td>0.239043</td>\n",
       "      <td>0.9900</td>\n",
       "      <td>1.0000</td>\n",
       "    </tr>\n",
       "    <tr>\n",
       "      <th>4</th>\n",
       "      <td>3.681073</td>\n",
       "      <td>1.105423</td>\n",
       "      <td>0.9721</td>\n",
       "      <td>0.0701</td>\n",
       "    </tr>\n",
       "    <tr>\n",
       "      <th>...</th>\n",
       "      <td>...</td>\n",
       "      <td>...</td>\n",
       "      <td>...</td>\n",
       "      <td>...</td>\n",
       "    </tr>\n",
       "    <tr>\n",
       "      <th>3995</th>\n",
       "      <td>0.218118</td>\n",
       "      <td>0.571561</td>\n",
       "      <td>0.9900</td>\n",
       "      <td>1.0000</td>\n",
       "    </tr>\n",
       "    <tr>\n",
       "      <th>3996</th>\n",
       "      <td>0.243954</td>\n",
       "      <td>0.340972</td>\n",
       "      <td>0.9900</td>\n",
       "      <td>1.0000</td>\n",
       "    </tr>\n",
       "    <tr>\n",
       "      <th>3997</th>\n",
       "      <td>0.211963</td>\n",
       "      <td>0.363397</td>\n",
       "      <td>0.9900</td>\n",
       "      <td>1.0000</td>\n",
       "    </tr>\n",
       "    <tr>\n",
       "      <th>3998</th>\n",
       "      <td>7.692443</td>\n",
       "      <td>0.766192</td>\n",
       "      <td>0.9764</td>\n",
       "      <td>0.0396</td>\n",
       "    </tr>\n",
       "    <tr>\n",
       "      <th>3999</th>\n",
       "      <td>2.904215</td>\n",
       "      <td>1.293751</td>\n",
       "      <td>0.9732</td>\n",
       "      <td>0.4605</td>\n",
       "    </tr>\n",
       "  </tbody>\n",
       "</table>\n",
       "<p>4000 rows × 4 columns</p>\n",
       "</div>"
      ],
      "text/plain": [
       "          max_P   utility  inertia  reliability\n",
       "0      0.245530  0.156577   0.9900       1.0000\n",
       "1     10.191797  0.583419   0.9779       0.0200\n",
       "2      0.108743  0.127958   0.9900       1.0000\n",
       "3      0.112311  0.239043   0.9900       1.0000\n",
       "4      3.681073  1.105423   0.9721       0.0701\n",
       "...         ...       ...      ...          ...\n",
       "3995   0.218118  0.571561   0.9900       1.0000\n",
       "3996   0.243954  0.340972   0.9900       1.0000\n",
       "3997   0.211963  0.363397   0.9900       1.0000\n",
       "3998   7.692443  0.766192   0.9764       0.0396\n",
       "3999   2.904215  1.293751   0.9732       0.4605\n",
       "\n",
       "[4000 rows x 4 columns]"
      ]
     },
     "execution_count": 31,
     "metadata": {},
     "output_type": "execute_result"
    }
   ],
   "source": [
    "policyoutcomes"
   ]
  },
  {
   "cell_type": "code",
   "execution_count": 32,
   "metadata": {},
   "outputs": [],
   "source": [
    "#max_P STN\n",
    "def signal_to_noise_max(column_of_interest): \n",
    "    mean = policyoutcomes[column_of_interest].mean()\n",
    "    standdev = policyoutcomes.loc[:,column_of_interest].std()\n",
    "    signal = (mean + 1)/(standdev+1)\n",
    "    return signal \n",
    "    \n",
    "def signal_to_noise_min(column_of_interest):\n",
    "    mean = policyoutcomes[column_of_interest].mean()\n",
    "    standdev = policyoutcomes.loc[:,column_of_interest].std()\n",
    "    signal = (mean + 1)*(standdev+1)\n",
    "    return signal"
   ]
  },
  {
   "cell_type": "code",
   "execution_count": 37,
   "metadata": {},
   "outputs": [
    {
     "data": {
      "text/plain": [
       "1.968197278114685"
      ]
     },
     "execution_count": 37,
     "metadata": {},
     "output_type": "execute_result"
    }
   ],
   "source": [
    "signal_to_noise_max('inertia')"
   ]
  },
  {
   "cell_type": "code",
   "execution_count": 33,
   "metadata": {},
   "outputs": [
    {
     "data": {
      "text/plain": [
       "14.589763006065084"
      ]
     },
     "execution_count": 33,
     "metadata": {},
     "output_type": "execute_result"
    }
   ],
   "source": [
    "signal_to_noise_min('max_P')"
   ]
  },
  {
   "cell_type": "code",
   "execution_count": 35,
   "metadata": {},
   "outputs": [
    {
     "data": {
      "text/plain": [
       "1.2314618641946578"
      ]
     },
     "execution_count": 35,
     "metadata": {},
     "output_type": "execute_result"
    }
   ],
   "source": [
    "#reliability STN\n",
    "signal_to_noise_max('reliability')"
   ]
  },
  {
   "cell_type": "code",
   "execution_count": 38,
   "metadata": {},
   "outputs": [
    {
     "data": {
      "text/plain": [
       "1.058408636623415"
      ]
     },
     "execution_count": 38,
     "metadata": {},
     "output_type": "execute_result"
    }
   ],
   "source": [
    "signal_to_noise_max('utility')"
   ]
  },
  {
   "cell_type": "code",
   "execution_count": 41,
   "metadata": {},
   "outputs": [],
   "source": [
    "#calculating signal to noise ratio (SNR):\n",
    "def calculate_signalNoise(data, obj):\n",
    "    if obj == -1: #MINIMIZE\n",
    "        score = (np.nanmean(data)+1)*(np.nanstd(data)+1)\n",
    "    elif obj == 1: #MAXIMIZE\n",
    "        score = (np.nanmean(data)+1)/(np.nanstd(data)+1)\n",
    "    return score"
   ]
  },
  {
   "cell_type": "code",
   "execution_count": 42,
   "metadata": {},
   "outputs": [
    {
     "name": "stdout",
     "output_type": "stream",
     "text": [
      "{'max_P': -1, 'utility': 1, 'inertia': 1, 'reliability': 1}\n"
     ]
    }
   ],
   "source": [
    "#[outcome.kind for outcome in outcomes]\n",
    "ooi_obj ={ooi.name: ooi.kind for ooi in model.outcomes}\n",
    "print(ooi_obj)"
   ]
  },
  {
   "cell_type": "code",
   "execution_count": 43,
   "metadata": {},
   "outputs": [],
   "source": []
  },
  {
   "cell_type": "code",
   "execution_count": 52,
   "metadata": {},
   "outputs": [
    {
     "ename": "TypeError",
     "evalue": "cannot unpack non-iterable int object",
     "output_type": "error",
     "traceback": [
      "\u001b[1;31m---------------------------------------------------------------------------\u001b[0m",
      "\u001b[1;31mTypeError\u001b[0m                                 Traceback (most recent call last)",
      "\u001b[1;32m<ipython-input-52-d10cff940e9c>\u001b[0m in \u001b[0;36m<module>\u001b[1;34m\u001b[0m\n\u001b[0;32m      2\u001b[0m \u001b[1;31m# I copy this to a new 'results' df, then fill the df with robustness values for each ooi\u001b[0m\u001b[1;33m\u001b[0m\u001b[1;33m\u001b[0m\u001b[1;33m\u001b[0m\u001b[0m\n\u001b[0;32m      3\u001b[0m \u001b[0msigN_results\u001b[0m \u001b[1;33m=\u001b[0m \u001b[1;33m{\u001b[0m\u001b[1;33m}\u001b[0m\u001b[1;33m\u001b[0m\u001b[1;33m\u001b[0m\u001b[0m\n\u001b[1;32m----> 4\u001b[1;33m \u001b[1;32mfor\u001b[0m \u001b[0mscenario\u001b[0m\u001b[1;33m,\u001b[0m \u001b[0mvalue\u001b[0m \u001b[1;32min\u001b[0m \u001b[0mpolicyexperiments\u001b[0m\u001b[1;33m[\u001b[0m\u001b[1;34m'scenario'\u001b[0m\u001b[1;33m]\u001b[0m\u001b[1;33m:\u001b[0m\u001b[1;33m\u001b[0m\u001b[1;33m\u001b[0m\u001b[0m\n\u001b[0m\u001b[0;32m      5\u001b[0m     \u001b[0msigN_results\u001b[0m\u001b[1;33m[\u001b[0m\u001b[0mscenario\u001b[0m\u001b[1;33m]\u001b[0m \u001b[1;33m=\u001b[0m \u001b[0mvalue\u001b[0m\u001b[1;33m.\u001b[0m\u001b[0mcopy\u001b[0m\u001b[1;33m(\u001b[0m\u001b[1;33m)\u001b[0m\u001b[1;33m\u001b[0m\u001b[1;33m\u001b[0m\u001b[0m\n\u001b[0;32m      6\u001b[0m \u001b[1;33m\u001b[0m\u001b[0m\n",
      "\u001b[1;31mTypeError\u001b[0m: cannot unpack non-iterable int object"
     ]
    }
   ],
   "source": [
    "# decisions is a dictionary {scenario:df of lever values}\n",
    "# I copy this to a new 'results' df, then fill the df with robustness values for each ooi \n",
    "sigN_results = {}\n",
    "for scenario, value in policyexperiments['scenario']:\n",
    "    sigN_results[scenario] = value.copy()\n",
    "    \n",
    "for ooi, obj in ooi_obj.items():\n",
    "    for i, s in enumerate(policyexperiments['scenario']):\n",
    "#         indices = np.array([p_name.startswith(str(s)) for p_name in experiments['policy']])\n",
    "#         scenario_outcomes = outcomes[ooi][indices]\n",
    "        for sol in sigN_results[s].index:\n",
    "            data = outcomes[ooi][experiments['policy'] == str(s)+'_'+str(sol)]\n",
    "            rob = calculate_signalNoise(data, obj)\n",
    "            #print(s, sol, ooi, rob)\n",
    "            sigN_results[s].set_value(sol, ooi, rob)\n",
    "            \n",
    "    for i, s in enumerate(random_selected):\n",
    "        for sol in sigN_results[s].index:\n",
    "            data = outcomes_r[ooi][experiments_r['policy'] == str(s)+'_'+str(sol)]\n",
    "            rob = calculate_signalNoise(data, obj)\n",
    "            #print(s, sol, ooi, rob)\n",
    "            sigN_results[s].set_value(sol, ooi, rob)"
   ]
  },
  {
   "cell_type": "code",
   "execution_count": null,
   "metadata": {},
   "outputs": [],
   "source": [
    "#plotting \n",
    "def plot_robustness_meanStd(data, scenarios, labels, title, fn, colors):\n",
    "    df_minima = pd.DataFrame([np.min(data[s], axis=0) for s in scenarios])\n",
    "    df_maxima = pd.DataFrame([np.max(data[s], axis=0) for s in scenarios])\n",
    "    minima = np.min(df_minima, axis=0)\n",
    "    maxima = np.max(df_maxima, axis=0)"
   ]
  },
  {
   "cell_type": "markdown",
   "metadata": {},
   "source": [
    "Another robustness metric is **maximum regret**, calculated again for each policy and for each outcome indicator. *Regret* is defined for each policy under each scenario, as the difference between the performance of the policy in a specific scenario and the berformance of a no-regret (i.e. best possible result in that scenario) policy. The *maximum regret*  is then the maximum of such regret values across all scenarios. We of course favor policy options with low *maximum regret* values. \n",
    "\n",
    "**Write a function to calculate the maximum regret. Calculate the maximum regret values for each outcome and each policy option. Plot the tradeoffs on a parallel plot. Which solutions look like a good compromise policy?**"
   ]
  },
  {
   "cell_type": "code",
   "execution_count": 20,
   "metadata": {},
   "outputs": [],
   "source": [
    "#max regret\n",
    "#### code copied from S.Eker Github page. Not working - haven't figured out how to adapt to this lake problem yet###\n",
    "\n",
    "def calculate_maxregret(data, obj, n_sol):\n",
    "    data = np.array(data)\n",
    "    if obj == 1: #MAXIMIZE \n",
    "        zero_regrets = np.max(data, axis=0)\n",
    "    elif obj == -1: #MINIMIZE\n",
    "        zero_regrets = np.min(data, axis=0)\n",
    "    regrets = [abs(np.subtract(data[p], zero_regrets)) for p in range(n_sol)]\n",
    "    max_regrets = np.max(regrets, axis=1)\n",
    "    return max_regrets"
   ]
  },
  {
   "cell_type": "code",
   "execution_count": 21,
   "metadata": {},
   "outputs": [],
   "source": [
    "reg_results = {}\n",
    "for scenario, value in policyoutcomes.items():\n",
    "    reg_results[scenario] = value.copy()"
   ]
  },
  {
   "cell_type": "code",
   "execution_count": 26,
   "metadata": {},
   "outputs": [
    {
     "ename": "TypeError",
     "evalue": "plot_robustness_regret() missing 6 required positional arguments: 'data', 'scenarios', 'labels', 'title', 'fn', and 'colors'",
     "output_type": "error",
     "traceback": [
      "\u001b[1;31m---------------------------------------------------------------------------\u001b[0m",
      "\u001b[1;31mTypeError\u001b[0m                                 Traceback (most recent call last)",
      "\u001b[1;32m<ipython-input-26-151e92435fa9>\u001b[0m in \u001b[0;36m<module>\u001b[1;34m\u001b[0m\n\u001b[0;32m      8\u001b[0m \u001b[0mplt\u001b[0m\u001b[1;33m.\u001b[0m\u001b[0mshow\u001b[0m\u001b[1;33m(\u001b[0m\u001b[1;33m)\u001b[0m\u001b[1;33m\u001b[0m\u001b[1;33m\u001b[0m\u001b[0m\n\u001b[0;32m      9\u001b[0m \u001b[1;33m\u001b[0m\u001b[0m\n\u001b[1;32m---> 10\u001b[1;33m \u001b[0mplot_robustness_regret\u001b[0m\u001b[1;33m(\u001b[0m\u001b[1;33m)\u001b[0m\u001b[1;33m\u001b[0m\u001b[1;33m\u001b[0m\u001b[0m\n\u001b[0m",
      "\u001b[1;31mTypeError\u001b[0m: plot_robustness_regret() missing 6 required positional arguments: 'data', 'scenarios', 'labels', 'title', 'fn', and 'colors'"
     ]
    }
   ],
   "source": [
    "#plotting\n",
    "def plot_robustness_regret(data, scenarios, labels, title, fn, colors):\n",
    "    df_minima = pd.DataFrame([np.min(data[s], axis=0) for s in scenarios])\n",
    "    df_maxima = pd.DataFrame([np.max(data[s], axis=0) for s in scenarios])\n",
    "    minima = np.min(df_minima, axis=0)\n",
    "    maxima = np.max(df_maxima, axis=0)\n",
    "\n",
    "plt.show()\n",
    "\n",
    "plot_robustness_regret()"
   ]
  },
  {
   "cell_type": "markdown",
   "metadata": {},
   "source": [
    "We now have an understanding of which solutions have decent robustness using 2 different robustness metrics. A related but different question is to assess the uncertain conditions under which we get poor performance. For this, we can use scenario discovery. Since we want to identify the uncertainties only, we can remove the policy column from the experiments DataFrame. \n",
    "\n",
    "**Perform Scenario Discovery, focussed on understanding the conditions under which utility is lower than 0.25**\n",
    "\n",
    "from the trade off curve between coverage, density and number of restricted dimensions, select a point which balances them. Next, using the `yi` attribute, select from the experiments data frame the rows which are within the box as well as the outcomes associated with these experiments.Save these results. They are the starting point for the next assignment. In pseudo code:\n",
    "\n",
    "```python\n",
    "from ema_workbench import save_results\n",
    "\n",
    "selected_experiments = experiments.iloc[box.yi]\n",
    "selected_outcomes = {k:v[box.yi] for k,v in outcomes.items()}\n",
    "\n",
    "save_results((selected_experiments, selected_outcomes), './results/selected_results.tar.gz')\n",
    "```\n",
    "\n",
    "\n",
    "\n"
   ]
  },
  {
   "cell_type": "code",
   "execution_count": 33,
   "metadata": {
    "scrolled": false
   },
   "outputs": [
    {
     "name": "stderr",
     "output_type": "stream",
     "text": [
      "[MainProcess/INFO] pool started\n",
      "[MainProcess/INFO] performing 1000 scenarios * 1 policies * 1 model(s) = 1000 experiments\n",
      "[MainProcess/INFO] 100 cases completed\n",
      "[MainProcess/INFO] 200 cases completed\n",
      "[MainProcess/INFO] 300 cases completed\n",
      "[MainProcess/INFO] 400 cases completed\n",
      "[MainProcess/INFO] 500 cases completed\n",
      "[MainProcess/INFO] 600 cases completed\n",
      "[MainProcess/INFO] 700 cases completed\n",
      "[MainProcess/INFO] 800 cases completed\n",
      "[MainProcess/INFO] 900 cases completed\n",
      "[MainProcess/INFO] 1000 cases completed\n",
      "[MainProcess/INFO] experiments finished\n",
      "[MainProcess/INFO] terminating pool\n"
     ]
    }
   ],
   "source": [
    "#identifying uncertainties\n",
    "\n",
    "with MultiprocessingEvaluator(model) as evaluator:\n",
    "    experiments_u, outcomes_u = perform_experiments(model, 1000, policies, evaluator=evaluator)"
   ]
  },
  {
   "cell_type": "code",
   "execution_count": 34,
   "metadata": {
    "collapsed": true
   },
   "outputs": [
    {
     "data": {
      "text/html": [
       "<div>\n",
       "<style scoped>\n",
       "    .dataframe tbody tr th:only-of-type {\n",
       "        vertical-align: middle;\n",
       "    }\n",
       "\n",
       "    .dataframe tbody tr th {\n",
       "        vertical-align: top;\n",
       "    }\n",
       "\n",
       "    .dataframe thead th {\n",
       "        text-align: right;\n",
       "    }\n",
       "</style>\n",
       "<table border=\"1\" class=\"dataframe\">\n",
       "  <thead>\n",
       "    <tr style=\"text-align: right;\">\n",
       "      <th></th>\n",
       "      <th>b</th>\n",
       "      <th>delta</th>\n",
       "      <th>mean</th>\n",
       "      <th>q</th>\n",
       "      <th>stdev</th>\n",
       "      <th>scenario</th>\n",
       "      <th>policy</th>\n",
       "      <th>model</th>\n",
       "    </tr>\n",
       "  </thead>\n",
       "  <tbody>\n",
       "    <tr>\n",
       "      <th>0</th>\n",
       "      <td>0.444755</td>\n",
       "      <td>0.979455</td>\n",
       "      <td>0.048749</td>\n",
       "      <td>3.440639</td>\n",
       "      <td>0.001201</td>\n",
       "      <td>1000</td>\n",
       "      <td>None</td>\n",
       "      <td>dpslakemodel</td>\n",
       "    </tr>\n",
       "    <tr>\n",
       "      <th>1</th>\n",
       "      <td>0.204707</td>\n",
       "      <td>0.986101</td>\n",
       "      <td>0.026300</td>\n",
       "      <td>2.517759</td>\n",
       "      <td>0.004685</td>\n",
       "      <td>1001</td>\n",
       "      <td>None</td>\n",
       "      <td>dpslakemodel</td>\n",
       "    </tr>\n",
       "    <tr>\n",
       "      <th>2</th>\n",
       "      <td>0.176155</td>\n",
       "      <td>0.974726</td>\n",
       "      <td>0.038168</td>\n",
       "      <td>2.502983</td>\n",
       "      <td>0.003757</td>\n",
       "      <td>1002</td>\n",
       "      <td>None</td>\n",
       "      <td>dpslakemodel</td>\n",
       "    </tr>\n",
       "    <tr>\n",
       "      <th>3</th>\n",
       "      <td>0.202205</td>\n",
       "      <td>0.979011</td>\n",
       "      <td>0.012320</td>\n",
       "      <td>2.324597</td>\n",
       "      <td>0.001601</td>\n",
       "      <td>1003</td>\n",
       "      <td>None</td>\n",
       "      <td>dpslakemodel</td>\n",
       "    </tr>\n",
       "    <tr>\n",
       "      <th>4</th>\n",
       "      <td>0.284925</td>\n",
       "      <td>0.988825</td>\n",
       "      <td>0.024830</td>\n",
       "      <td>3.219250</td>\n",
       "      <td>0.003297</td>\n",
       "      <td>1004</td>\n",
       "      <td>None</td>\n",
       "      <td>dpslakemodel</td>\n",
       "    </tr>\n",
       "  </tbody>\n",
       "</table>\n",
       "</div>"
      ],
      "text/plain": [
       "          b     delta      mean         q     stdev scenario policy  \\\n",
       "0  0.444755  0.979455  0.048749  3.440639  0.001201     1000   None   \n",
       "1  0.204707  0.986101  0.026300  2.517759  0.004685     1001   None   \n",
       "2  0.176155  0.974726  0.038168  2.502983  0.003757     1002   None   \n",
       "3  0.202205  0.979011  0.012320  2.324597  0.001601     1003   None   \n",
       "4  0.284925  0.988825  0.024830  3.219250  0.003297     1004   None   \n",
       "\n",
       "          model  \n",
       "0  dpslakemodel  \n",
       "1  dpslakemodel  \n",
       "2  dpslakemodel  \n",
       "3  dpslakemodel  \n",
       "4  dpslakemodel  "
      ]
     },
     "execution_count": 34,
     "metadata": {},
     "output_type": "execute_result"
    }
   ],
   "source": [
    "experiments_u.head()"
   ]
  },
  {
   "cell_type": "code",
   "execution_count": 37,
   "metadata": {
    "collapsed": true
   },
   "outputs": [
    {
     "data": {
      "text/html": [
       "<div>\n",
       "<style scoped>\n",
       "    .dataframe tbody tr th:only-of-type {\n",
       "        vertical-align: middle;\n",
       "    }\n",
       "\n",
       "    .dataframe tbody tr th {\n",
       "        vertical-align: top;\n",
       "    }\n",
       "\n",
       "    .dataframe thead th {\n",
       "        text-align: right;\n",
       "    }\n",
       "</style>\n",
       "<table border=\"1\" class=\"dataframe\">\n",
       "  <thead>\n",
       "    <tr style=\"text-align: right;\">\n",
       "      <th></th>\n",
       "      <th>b</th>\n",
       "      <th>delta</th>\n",
       "      <th>mean</th>\n",
       "      <th>q</th>\n",
       "      <th>stdev</th>\n",
       "      <th>scenario</th>\n",
       "      <th>model</th>\n",
       "    </tr>\n",
       "  </thead>\n",
       "  <tbody>\n",
       "    <tr>\n",
       "      <th>0</th>\n",
       "      <td>0.444755</td>\n",
       "      <td>0.979455</td>\n",
       "      <td>0.048749</td>\n",
       "      <td>3.440639</td>\n",
       "      <td>0.001201</td>\n",
       "      <td>1000</td>\n",
       "      <td>dpslakemodel</td>\n",
       "    </tr>\n",
       "    <tr>\n",
       "      <th>1</th>\n",
       "      <td>0.204707</td>\n",
       "      <td>0.986101</td>\n",
       "      <td>0.026300</td>\n",
       "      <td>2.517759</td>\n",
       "      <td>0.004685</td>\n",
       "      <td>1001</td>\n",
       "      <td>dpslakemodel</td>\n",
       "    </tr>\n",
       "    <tr>\n",
       "      <th>2</th>\n",
       "      <td>0.176155</td>\n",
       "      <td>0.974726</td>\n",
       "      <td>0.038168</td>\n",
       "      <td>2.502983</td>\n",
       "      <td>0.003757</td>\n",
       "      <td>1002</td>\n",
       "      <td>dpslakemodel</td>\n",
       "    </tr>\n",
       "    <tr>\n",
       "      <th>3</th>\n",
       "      <td>0.202205</td>\n",
       "      <td>0.979011</td>\n",
       "      <td>0.012320</td>\n",
       "      <td>2.324597</td>\n",
       "      <td>0.001601</td>\n",
       "      <td>1003</td>\n",
       "      <td>dpslakemodel</td>\n",
       "    </tr>\n",
       "    <tr>\n",
       "      <th>4</th>\n",
       "      <td>0.284925</td>\n",
       "      <td>0.988825</td>\n",
       "      <td>0.024830</td>\n",
       "      <td>3.219250</td>\n",
       "      <td>0.003297</td>\n",
       "      <td>1004</td>\n",
       "      <td>dpslakemodel</td>\n",
       "    </tr>\n",
       "  </tbody>\n",
       "</table>\n",
       "</div>"
      ],
      "text/plain": [
       "          b     delta      mean         q     stdev scenario         model\n",
       "0  0.444755  0.979455  0.048749  3.440639  0.001201     1000  dpslakemodel\n",
       "1  0.204707  0.986101  0.026300  2.517759  0.004685     1001  dpslakemodel\n",
       "2  0.176155  0.974726  0.038168  2.502983  0.003757     1002  dpslakemodel\n",
       "3  0.202205  0.979011  0.012320  2.324597  0.001601     1003  dpslakemodel\n",
       "4  0.284925  0.988825  0.024830  3.219250  0.003297     1004  dpslakemodel"
      ]
     },
     "execution_count": 37,
     "metadata": {},
     "output_type": "execute_result"
    }
   ],
   "source": [
    "from ema_workbench import Policy\n",
    "\n",
    "cleaned_experiments = experiments_u.drop(columns='policy')\n",
    "cleaned_experiments.head()"
   ]
  },
  {
   "cell_type": "code",
   "execution_count": 39,
   "metadata": {},
   "outputs": [
    {
     "name": "stderr",
     "output_type": "stream",
     "text": [
      "[MainProcess/INFO] model dropped from analysis because only a single category\n",
      "[MainProcess/INFO] 1000 points remaining, containing 483 cases of interest\n",
      "[MainProcess/INFO] mean: 1.0, mass: 0.146, coverage: 0.3022774327122153, density: 1.0 restricted_dimensions: 3\n"
     ]
    },
    {
     "data": {
      "image/png": "[encoded data removed]",
      "text/plain": [
       "<Figure size 432x288 with 2 Axes>"
      ]
     },
     "metadata": {
      "needs_background": "light"
     },
     "output_type": "display_data"
    }
   ],
   "source": [
    "from ema_workbench.analysis import prim\n",
    "import matplotlib.pyplot as plt\n",
    "\n",
    "x = cleaned_experiments\n",
    "y = outcomes_u['utility'] <0.25\n",
    "\n",
    "prim_alg = prim.Prim(x, y, threshold=0.8, peel_alpha = 0.1)\n",
    "box1 = prim_alg.find_box()\n",
    "\n",
    "box1.show_tradeoff()\n",
    "plt.show()"
   ]
  },
  {
   "cell_type": "code",
   "execution_count": 41,
   "metadata": {},
   "outputs": [
    {
     "data": {
      "image/png": "[encoded data removed]",
      "text/plain": [
       "<Figure size 432x288 with 1 Axes>"
      ]
     },
     "metadata": {
      "needs_background": "light"
     },
     "output_type": "display_data"
    },
    {
     "name": "stdout",
     "output_type": "stream",
     "text": [
      "coverage    0.585921\n",
      "density     0.907051\n",
      "id                11\n",
      "mass           0.312\n",
      "mean        0.907051\n",
      "res_dim            3\n",
      "Name: 11, dtype: object\n",
      "\n",
      "         box 11                                          \n",
      "            min       max                       qp values\n",
      "delta  0.930021  0.961895  [-1.0, 5.5332332793132215e-31]\n",
      "b      0.193499  0.449919  [3.8735722138287255e-10, -1.0]\n",
      "q      2.441595  4.499530   [0.0002549763797955074, -1.0]\n",
      "\n"
     ]
    }
   ],
   "source": [
    "box1.inspect(11, style='graph')\n",
    "plt.show()\n",
    "\n",
    "box1.inspect(11)"
   ]
  },
  {
   "cell_type": "code",
   "execution_count": 48,
   "metadata": {},
   "outputs": [
    {
     "name": "stderr",
     "output_type": "stream",
     "text": [
      "[MainProcess/INFO] results saved successfully to C:\\Users\\Yena\\Desktop\\MSc EPA - 1st Year\\Q4\\1361 - Model-based decision making\\epa1361_open-master\\Week 5-6 - robustness and direct search\\selected_resultsYA.tar.gz\n"
     ]
    }
   ],
   "source": [
    "from ema_workbench import save_results\n",
    "\n",
    "selected_experiments = cleaned_experiments.iloc[box1.yi]\n",
    "selected_outcomes = {k:v[box1.yi] for k,v in outcomes_u.items()}\n",
    "\n",
    "save_results((selected_experiments, selected_outcomes), './selected_resultsYA.tar.gz')"
   ]
  }
 ],
 "metadata": {
  "anaconda-cloud": {},
  "kernelspec": {
   "display_name": "Python 3",
   "language": "python",
   "name": "python3"
  },
  "language_info": {
   "codemirror_mode": {
    "name": "ipython",
    "version": 3
   },
   "file_extension": ".py",
   "mimetype": "text/x-python",
   "name": "python",
   "nbconvert_exporter": "python",
   "pygments_lexer": "ipython3",
   "version": "3.7.3"
  },
  "latex_envs": {
   "LaTeX_envs_menu_present": true,
   "autocomplete": true,
   "bibliofile": "biblio.bib",
   "cite_by": "apalike",
   "current_citInitial": 1,
   "eqLabelWithNumbers": true,
   "eqNumInitial": 1,
   "hotkeys": {
    "equation": "Ctrl-E",
    "itemize": "Ctrl-I"
   },
   "labels_anchors": false,
   "latex_user_defs": false,
   "report_style_numbering": false,
   "user_envs_cfg": false
  }
 },
 "nbformat": 4,
 "nbformat_minor": 4
}

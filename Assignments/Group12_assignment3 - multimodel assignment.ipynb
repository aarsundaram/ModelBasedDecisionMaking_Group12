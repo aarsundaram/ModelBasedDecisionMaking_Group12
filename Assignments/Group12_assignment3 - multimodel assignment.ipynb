{
 "cells": [
  {
   "cell_type": "markdown",
   "metadata": {},
   "source": [
    "# EPA1361 - Model-Based Decision Making\n",
    "\n",
    "## Multi-model analysis\n",
    "\n",
    "This exercise uses a simple version of the [Lotka-Volterra predator-prey equations](https://en.wikipedia.org/wiki/Lotka%E2%80%93Volterra_equations) to show how the EMA Workbench can be used for a\n",
    "multi-model analysis, in addition to typical parametric/structural uncertainties. This will let you test the connectors provided in the Workbench for Excel, NetLogo, and Vensim / PySD; we'll also use the models for the sensitivity analysis exercise in week 3.\n",
    "\n",
    "* Using the three model files provided and the Python function below, define model objects for each implementation (Excel, NetLogo, Vensim/PySD, and Python), and test them using a single ensemble. Use 50 experiments sampled from the parameters below (so that each experiment will be executed for the 4 models, for a total of 200), and retrieve outputs for the _TIME_, _predators_, and _prey_ variables.\n",
    "    * excel and vensim are only supported on windows\n",
    "    * vensim requires 32 bit python, and a 7.1!! version of vensim DSS\n",
    "    * Netlogo supoprt depends on [jpype](http://jpype.readthedocs.io/en/latest/install.html) and [pynetlogo](https://pynetlogo.readthedocs.io/en/latest/). Also, if you don't have NetLogo installed, please get it from [NetLogo 6.0](https://ccl.northwestern.edu/netlogo/download.shtml) \n",
    "    * for pysd, see [its documentation](http://pysd.readthedocs.io/en/master/installation.html)\n",
    "    * If possible try to work with all model versions, but even 2 or 3 (pure python and something else should be sufficient).\n",
    "    \n",
    "\n",
    "|Parameter\t|Range or value\t        |\n",
    "|-----------|--------------:|\n",
    "|prey_birth_rate    \t|0.015 – 0.035\t|\n",
    "|predation_rate|0.0005 – 0.003 \t|\n",
    "|predator_efficiency     \t|0.001 – 0.004\t    |\n",
    "|predator_loss_rate\t    |0.04 – 0.08\t    |\n",
    "|Final time\t    |365\t    |\n",
    "|dt\t    |0.25\t    |\n",
    "\n",
    "* Note that your EMA Workbench installation includes example scripts for the different connectors. The different model objects follow a similar syntax but will need to be slightly adjusted depending on the software (e.g. to specify the NetLogo run length or the sheet name in Excel). \n",
    "\n",
    "* These model objects can be used with a replication functionality (for instance to test the effect of stochastic uncertainty in a NetLogo model), which repeats a given experiment over multiple replications. You can use a single replication in this exercise as the models are not stochastic. By default, each outcome array will then have a shape of (# experiments, # replications, # time steps). Try adapting the outcome arrays so that they can be used with the _lines_ plotting function of the Workbench, and plot the results grouped by model.\n",
    "\n",
    "* To check the graphical results, find the maximum absolute error of the time series you obtained for the _prey_ variable in the Excel, NetLogo, and Vensim/PySD models, relative to the Python function. "
   ]
  },
  {
   "cell_type": "code",
   "execution_count": 13,
   "metadata": {
    "jupyter": {
     "outputs_hidden": false
    }
   },
   "outputs": [],
   "source": [
    "import numpy as np\n",
    "import matplotlib.pyplot as plt\n",
    "\n",
    "from ema_workbench import (Model, RealParameter, TimeSeriesOutcome, perform_experiments,\n",
    "                           ema_logging, SequentialEvaluator)\n",
    "ema_logging.log_to_stderr(ema_logging.INFO)\n",
    "\n",
    "from ema_workbench.connectors.netlogo import NetLogoModel\n",
    "from ema_workbench.connectors.excel import ExcelModel\n",
    "from ema_workbench.connectors.pysd_connector import PysdModel\n",
    "\n",
    "from ema_workbench.em_framework.evaluators import LHS, SOBOL, MORRIS\n",
    "from ema_workbench.analysis.plotting import lines, Density"
   ]
  },
  {
   "cell_type": "markdown",
   "metadata": {},
   "source": [
    "## Python Model"
   ]
  },
  {
   "cell_type": "code",
   "execution_count": 30,
   "metadata": {},
   "outputs": [],
   "source": [
    "#Python model\n",
    "from ema_workbench import (MultiprocessingEvaluator,\n",
    "                           perform_experiments)\n",
    "\n",
    "import os\n",
    "os.system(\"PredPrey.py\")\n",
    "from PredPreyYA import PredPrey\n",
    "\n",
    "modelPython = Model('PredPreyPython', function=PredPrey)\n",
    "\n",
    "modelPython.uncertainties = [RealParameter('prey_birth_rate', 0.015, 0.035),\n",
    "                       RealParameter('predation_rate', 0.0005, 0.003),\n",
    "                       RealParameter('predator_efficiency', 0.001, 0.004),\n",
    "                       RealParameter('predator_loss_rate', 0.04, 0.08)]\n",
    "\n",
    "modelPython.outcomes = [TimeSeriesOutcome('TIME'),\n",
    "                  TimeSeriesOutcome('predators'),\n",
    "                  TimeSeriesOutcome('prey')]"
   ]
  },
  {
   "cell_type": "code",
   "execution_count": 31,
   "metadata": {
    "scrolled": true
   },
   "outputs": [
    {
     "name": "stderr",
     "output_type": "stream",
     "text": [
      "[MainProcess/INFO] performing 50 scenarios * 1 policies * 1 model(s) = 50 experiments\n",
      "[MainProcess/INFO] performing experiments sequentially\n",
      "[MainProcess/INFO] 5 cases completed\n",
      "[MainProcess/INFO] 10 cases completed\n",
      "[MainProcess/INFO] 15 cases completed\n",
      "[MainProcess/INFO] 20 cases completed\n",
      "[MainProcess/INFO] 25 cases completed\n",
      "[MainProcess/INFO] 30 cases completed\n",
      "[MainProcess/INFO] 35 cases completed\n",
      "[MainProcess/INFO] 40 cases completed\n",
      "[MainProcess/INFO] 45 cases completed\n",
      "[MainProcess/INFO] 50 cases completed\n",
      "[MainProcess/INFO] experiments finished\n"
     ]
    }
   ],
   "source": [
    "#running experiments with sequential evaluator - Python model\n",
    "with SequentialEvaluator(modelPython) as evaluator:\n",
    "    resultsPython = perform_experiments(modelPython, 50)"
   ]
  },
  {
   "cell_type": "code",
   "execution_count": 4,
   "metadata": {},
   "outputs": [],
   "source": [
    "#running Python experiments with multiprocessing evaluator - NOT WORKING\n",
    "#with MultiprocessingEvaluator(modelPython, n_processes=7) as evaluator:\n",
    "    #resultsPython2 = evaluator.perform_experiments(modelPython, scenarios = 50, polcies =1)  "
   ]
  },
  {
   "cell_type": "markdown",
   "metadata": {},
   "source": [
    "## Excel Model"
   ]
  },
  {
   "cell_type": "code",
   "execution_count": 5,
   "metadata": {},
   "outputs": [],
   "source": [
    "#excel model\n",
    "modelExcel = ExcelModel(\"PredPreyExcel\", wd=\"./model\",model_file='PredPrey.xlsx')\n",
    "\n",
    "modelExcel.uncertainties = [RealParameter('B3', 0.015, 0.035),\n",
    "                       RealParameter('B4', 0.0005, 0.003),\n",
    "                       RealParameter('B5', 0.001, 0.004),\n",
    "                       RealParameter('B6', 0.04, 0.08)]\n",
    "\n",
    "modelExcel.outcomes = [TimeSeriesOutcome('B14:BDF14'),\n",
    "                  TimeSeriesOutcome('B18:BDF18'),\n",
    "                  TimeSeriesOutcome('B17:BDF17')]\n",
    "modelExcel.default_sheet = \"Sheet1\""
   ]
  },
  {
   "cell_type": "code",
   "execution_count": 6,
   "metadata": {
    "scrolled": true
   },
   "outputs": [
    {
     "name": "stderr",
     "output_type": "stream",
     "text": [
      "[MainProcess/INFO] pool started\n",
      "[MainProcess/INFO] performing 50 scenarios * 1 policies * 1 model(s) = 50 experiments\n",
      "[MainProcess/INFO] 5 cases completed\n",
      "[MainProcess/INFO] 10 cases completed\n",
      "[MainProcess/INFO] 15 cases completed\n",
      "[MainProcess/INFO] 20 cases completed\n",
      "[MainProcess/INFO] 25 cases completed\n",
      "[MainProcess/INFO] 30 cases completed\n",
      "[MainProcess/INFO] 35 cases completed\n",
      "[MainProcess/INFO] 40 cases completed\n",
      "[MainProcess/INFO] 45 cases completed\n",
      "[MainProcess/INFO] 50 cases completed\n",
      "[MainProcess/INFO] experiments finished\n",
      "[MainProcess/INFO] terminating pool\n"
     ]
    }
   ],
   "source": [
    "#Running experiments - Excel\n",
    "with MultiprocessingEvaluator(modelExcel) as evaluator:\n",
    "    experiments, outcomes = perform_experiments(modelExcel, 50, evaluator=evaluator)"
   ]
  },
  {
   "cell_type": "code",
   "execution_count": 7,
   "metadata": {},
   "outputs": [],
   "source": [
    "#visualizing results - N/A???\n",
    "T = outcomes['B14:BDF14']\n",
    "Pred = outcomes['B18:BDF18']\n",
    "Prey = outcomes['B17:BDF17']"
   ]
  },
  {
   "cell_type": "markdown",
   "metadata": {},
   "source": [
    "## Net Logo Model"
   ]
  },
  {
   "cell_type": "code",
   "execution_count": 8,
   "metadata": {},
   "outputs": [],
   "source": [
    "#NetLogo model\n",
    "\n",
    "modelNetlogo = NetLogoModel('predprey',\n",
    "                         wd=\"./model\",\n",
    "                         model_file=\"PredPrey.nlogo\")\n",
    "\n",
    "modelNetlogo.uncertainties = [RealParameter('prey_birth_rate', 0.015, 0.035),\n",
    "                       RealParameter('predation_rate', 0.0005, 0.003),\n",
    "                       RealParameter('predator_efficiency', 0.001, 0.004),\n",
    "                       RealParameter('predator_loss_rate', 0.04, 0.08)]\n",
    "\n",
    "modelNetlogo.outcomes = [TimeSeriesOutcome('TIME'),\n",
    "                  TimeSeriesOutcome('predators'),\n",
    "                  TimeSeriesOutcome('prey')]\n",
    "modelNetlogo.run_length = 100\n",
    "modelNetlogo.replications = 1"
   ]
  },
  {
   "cell_type": "code",
   "execution_count": 9,
   "metadata": {},
   "outputs": [
    {
     "name": "stderr",
     "output_type": "stream",
     "text": [
      "[MainProcess/INFO] pool started\n",
      "[MainProcess/INFO] performing 50 scenarios * 1 policies * 1 model(s) = 50 experiments\n",
      "[MainProcess/INFO] 5 cases completed\n",
      "[MainProcess/INFO] 10 cases completed\n",
      "[MainProcess/INFO] 15 cases completed\n",
      "[MainProcess/INFO] 20 cases completed\n",
      "[MainProcess/INFO] 25 cases completed\n",
      "[MainProcess/INFO] 30 cases completed\n",
      "[MainProcess/INFO] 35 cases completed\n",
      "[MainProcess/INFO] 40 cases completed\n",
      "[MainProcess/INFO] 45 cases completed\n",
      "[MainProcess/INFO] 50 cases completed\n",
      "[MainProcess/INFO] experiments finished\n",
      "[MainProcess/INFO] terminating pool\n"
     ]
    }
   ],
   "source": [
    "#running experiments - NetLogo\n",
    "with MultiprocessingEvaluator(modelNetlogo) as evaluator:\n",
    "    results = perform_experiments(modelNetlogo, 50, evaluator=evaluator)"
   ]
  },
  {
   "cell_type": "markdown",
   "metadata": {},
   "source": [
    "## Vensim Model"
   ]
  },
  {
   "cell_type": "code",
   "execution_count": 29,
   "metadata": {},
   "outputs": [],
   "source": [
    "#Vensim model\n",
    "import pysd\n",
    "\n",
    "modelVensim = pysd.read_vensim('./model/PredPrey.mdl')\n",
    "modelVensim.uncertainties = [RealParameter('prey_birth_rate', 0.015, 0.035),\n",
    "                       RealParameter('predation_rate', 0.0005, 0.003),\n",
    "                       RealParameter('predator_efficiency', 0.001, 0.004),\n",
    "                       RealParameter('predator_loss_rate', 0.04, 0.08)]\n",
    "\n",
    "modelVensim.outcomes = [TimeSeriesOutcome('TIME'),\n",
    "                  TimeSeriesOutcome('predators'),\n",
    "                  TimeSeriesOutcome('prey')]"
   ]
  },
  {
   "cell_type": "code",
   "execution_count": 11,
   "metadata": {
    "collapsed": true
   },
   "outputs": [
    {
     "data": {
      "text/html": [
       "<div>\n",
       "<style scoped>\n",
       "    .dataframe tbody tr th:only-of-type {\n",
       "        vertical-align: middle;\n",
       "    }\n",
       "\n",
       "    .dataframe tbody tr th {\n",
       "        vertical-align: top;\n",
       "    }\n",
       "\n",
       "    .dataframe thead th {\n",
       "        text-align: right;\n",
       "    }\n",
       "</style>\n",
       "<table border=\"1\" class=\"dataframe\">\n",
       "  <thead>\n",
       "    <tr style=\"text-align: right;\">\n",
       "      <th></th>\n",
       "      <th>Real Name</th>\n",
       "      <th>Py Name</th>\n",
       "      <th>Unit</th>\n",
       "      <th>Lims</th>\n",
       "      <th>Type</th>\n",
       "      <th>Eqn</th>\n",
       "      <th>Comment</th>\n",
       "    </tr>\n",
       "  </thead>\n",
       "  <tbody>\n",
       "    <tr>\n",
       "      <th>0</th>\n",
       "      <td>FINAL_TIME</td>\n",
       "      <td>final_time</td>\n",
       "      <td>b'Day'</td>\n",
       "      <td>(None, None)</td>\n",
       "      <td>constant</td>\n",
       "      <td>b'365'</td>\n",
       "      <td>b'The final time for the simulation.'</td>\n",
       "    </tr>\n",
       "    <tr>\n",
       "      <th>1</th>\n",
       "      <td>INITIAL_TIME</td>\n",
       "      <td>initial_time</td>\n",
       "      <td>b'Day'</td>\n",
       "      <td>(None, None)</td>\n",
       "      <td>constant</td>\n",
       "      <td>b'0'</td>\n",
       "      <td>b'The initial time for the simulation.'</td>\n",
       "    </tr>\n",
       "    <tr>\n",
       "      <th>2</th>\n",
       "      <td>SAVEPER</td>\n",
       "      <td>saveper</td>\n",
       "      <td>b'Day'</td>\n",
       "      <td>(0.0, None)</td>\n",
       "      <td>component</td>\n",
       "      <td>b'TIME_STEP'</td>\n",
       "      <td>b'The frequency with which output is stored.'</td>\n",
       "    </tr>\n",
       "    <tr>\n",
       "      <th>3</th>\n",
       "      <td>TIME_STEP</td>\n",
       "      <td>time_step</td>\n",
       "      <td>b'Day'</td>\n",
       "      <td>(0.0, None)</td>\n",
       "      <td>constant</td>\n",
       "      <td>b'0.25'</td>\n",
       "      <td>b'The time step for the simulation.'</td>\n",
       "    </tr>\n",
       "    <tr>\n",
       "      <th>4</th>\n",
       "      <td>initial_predators</td>\n",
       "      <td>initial_predators</td>\n",
       "      <td>b''</td>\n",
       "      <td>(None, None)</td>\n",
       "      <td>constant</td>\n",
       "      <td>b'20'</td>\n",
       "      <td>b''</td>\n",
       "    </tr>\n",
       "    <tr>\n",
       "      <th>5</th>\n",
       "      <td>initial_prey</td>\n",
       "      <td>initial_prey</td>\n",
       "      <td>b''</td>\n",
       "      <td>(None, None)</td>\n",
       "      <td>constant</td>\n",
       "      <td>b'50'</td>\n",
       "      <td>b''</td>\n",
       "    </tr>\n",
       "    <tr>\n",
       "      <th>6</th>\n",
       "      <td>predation_rate</td>\n",
       "      <td>predation_rate</td>\n",
       "      <td>b''</td>\n",
       "      <td>(None, None)</td>\n",
       "      <td>constant</td>\n",
       "      <td>b'0.0015'</td>\n",
       "      <td>b''</td>\n",
       "    </tr>\n",
       "    <tr>\n",
       "      <th>7</th>\n",
       "      <td>predator_efficiency</td>\n",
       "      <td>predator_efficiency</td>\n",
       "      <td>b''</td>\n",
       "      <td>(None, None)</td>\n",
       "      <td>constant</td>\n",
       "      <td>b'0.002'</td>\n",
       "      <td>b''</td>\n",
       "    </tr>\n",
       "    <tr>\n",
       "      <th>8</th>\n",
       "      <td>predator_growth</td>\n",
       "      <td>predator_growth</td>\n",
       "      <td>b''</td>\n",
       "      <td>(None, None)</td>\n",
       "      <td>component</td>\n",
       "      <td>b'predator_efficiency*predators*prey'</td>\n",
       "      <td>b''</td>\n",
       "    </tr>\n",
       "    <tr>\n",
       "      <th>9</th>\n",
       "      <td>predator_loss</td>\n",
       "      <td>predator_loss</td>\n",
       "      <td>b''</td>\n",
       "      <td>(None, None)</td>\n",
       "      <td>component</td>\n",
       "      <td>b'predator_loss_rate*predators'</td>\n",
       "      <td>b''</td>\n",
       "    </tr>\n",
       "    <tr>\n",
       "      <th>10</th>\n",
       "      <td>predator_loss_rate</td>\n",
       "      <td>predator_loss_rate</td>\n",
       "      <td>b''</td>\n",
       "      <td>(None, None)</td>\n",
       "      <td>constant</td>\n",
       "      <td>b'0.06'</td>\n",
       "      <td>b''</td>\n",
       "    </tr>\n",
       "    <tr>\n",
       "      <th>11</th>\n",
       "      <td>predators</td>\n",
       "      <td>predators</td>\n",
       "      <td>b''</td>\n",
       "      <td>(0.0, None)</td>\n",
       "      <td>component</td>\n",
       "      <td>b'INTEG ( predator_growth-predator_loss, initi...</td>\n",
       "      <td>b''</td>\n",
       "    </tr>\n",
       "    <tr>\n",
       "      <th>12</th>\n",
       "      <td>prey</td>\n",
       "      <td>prey</td>\n",
       "      <td>b''</td>\n",
       "      <td>(0.0, None)</td>\n",
       "      <td>component</td>\n",
       "      <td>b'INTEG ( prey_growth-prey_loss, initial_prey)'</td>\n",
       "      <td>b''</td>\n",
       "    </tr>\n",
       "    <tr>\n",
       "      <th>13</th>\n",
       "      <td>prey_birth_rate</td>\n",
       "      <td>prey_birth_rate</td>\n",
       "      <td>b''</td>\n",
       "      <td>(None, None)</td>\n",
       "      <td>constant</td>\n",
       "      <td>b'0.025'</td>\n",
       "      <td>b''</td>\n",
       "    </tr>\n",
       "    <tr>\n",
       "      <th>14</th>\n",
       "      <td>prey_growth</td>\n",
       "      <td>prey_growth</td>\n",
       "      <td>b''</td>\n",
       "      <td>(None, None)</td>\n",
       "      <td>component</td>\n",
       "      <td>b'prey_birth_rate*prey'</td>\n",
       "      <td>b''</td>\n",
       "    </tr>\n",
       "    <tr>\n",
       "      <th>15</th>\n",
       "      <td>prey_loss</td>\n",
       "      <td>prey_loss</td>\n",
       "      <td>b''</td>\n",
       "      <td>(None, None)</td>\n",
       "      <td>component</td>\n",
       "      <td>b'predation_rate*predators*prey'</td>\n",
       "      <td>b''</td>\n",
       "    </tr>\n",
       "  </tbody>\n",
       "</table>\n",
       "</div>"
      ],
      "text/plain": [
       "              Real Name              Py Name    Unit          Lims       Type  \\\n",
       "0            FINAL_TIME           final_time  b'Day'  (None, None)   constant   \n",
       "1          INITIAL_TIME         initial_time  b'Day'  (None, None)   constant   \n",
       "2               SAVEPER              saveper  b'Day'   (0.0, None)  component   \n",
       "3             TIME_STEP            time_step  b'Day'   (0.0, None)   constant   \n",
       "4     initial_predators    initial_predators     b''  (None, None)   constant   \n",
       "5          initial_prey         initial_prey     b''  (None, None)   constant   \n",
       "6        predation_rate       predation_rate     b''  (None, None)   constant   \n",
       "7   predator_efficiency  predator_efficiency     b''  (None, None)   constant   \n",
       "8       predator_growth      predator_growth     b''  (None, None)  component   \n",
       "9         predator_loss        predator_loss     b''  (None, None)  component   \n",
       "10   predator_loss_rate   predator_loss_rate     b''  (None, None)   constant   \n",
       "11            predators            predators     b''   (0.0, None)  component   \n",
       "12                 prey                 prey     b''   (0.0, None)  component   \n",
       "13      prey_birth_rate      prey_birth_rate     b''  (None, None)   constant   \n",
       "14          prey_growth          prey_growth     b''  (None, None)  component   \n",
       "15            prey_loss            prey_loss     b''  (None, None)  component   \n",
       "\n",
       "                                                  Eqn  \\\n",
       "0                                              b'365'   \n",
       "1                                                b'0'   \n",
       "2                                        b'TIME_STEP'   \n",
       "3                                             b'0.25'   \n",
       "4                                               b'20'   \n",
       "5                                               b'50'   \n",
       "6                                           b'0.0015'   \n",
       "7                                            b'0.002'   \n",
       "8               b'predator_efficiency*predators*prey'   \n",
       "9                     b'predator_loss_rate*predators'   \n",
       "10                                            b'0.06'   \n",
       "11  b'INTEG ( predator_growth-predator_loss, initi...   \n",
       "12    b'INTEG ( prey_growth-prey_loss, initial_prey)'   \n",
       "13                                           b'0.025'   \n",
       "14                            b'prey_birth_rate*prey'   \n",
       "15                   b'predation_rate*predators*prey'   \n",
       "\n",
       "                                          Comment  \n",
       "0           b'The final time for the simulation.'  \n",
       "1         b'The initial time for the simulation.'  \n",
       "2   b'The frequency with which output is stored.'  \n",
       "3            b'The time step for the simulation.'  \n",
       "4                                             b''  \n",
       "5                                             b''  \n",
       "6                                             b''  \n",
       "7                                             b''  \n",
       "8                                             b''  \n",
       "9                                             b''  \n",
       "10                                            b''  \n",
       "11                                            b''  \n",
       "12                                            b''  \n",
       "13                                            b''  \n",
       "14                                            b''  \n",
       "15                                            b''  "
      ]
     },
     "execution_count": 11,
     "metadata": {},
     "output_type": "execute_result"
    }
   ],
   "source": [
    "#brief look at Vensim model\n",
    "modelVensim.doc()"
   ]
  },
  {
   "cell_type": "code",
   "execution_count": 16,
   "metadata": {},
   "outputs": [],
   "source": [
    "#running experiments - Vensim - NOT WORKING\n",
    "#with SequentialEvaluator(modelVensim) as evaluator:\n",
    "    #resultsVensimSq = perform_experiments(modelVensim, 50)\n"
   ]
  },
  {
   "cell_type": "code",
   "execution_count": 24,
   "metadata": {},
   "outputs": [
    {
     "ename": "TypeError",
     "evalue": "'Model' object is not iterable",
     "output_type": "error",
     "traceback": [
      "\u001b[1;31m---------------------------------------------------------------------------\u001b[0m",
      "\u001b[1;31mTypeError\u001b[0m                                 Traceback (most recent call last)",
      "\u001b[1;32m<ipython-input-24-8f8e85f4536e>\u001b[0m in \u001b[0;36m<module>\u001b[1;34m\u001b[0m\n\u001b[0;32m      1\u001b[0m \u001b[1;31m#running experiments - Vensim - NOT WORKING\u001b[0m\u001b[1;33m\u001b[0m\u001b[1;33m\u001b[0m\u001b[1;33m\u001b[0m\u001b[0m\n\u001b[1;32m----> 2\u001b[1;33m \u001b[1;32mwith\u001b[0m \u001b[0mMultiprocessingEvaluator\u001b[0m\u001b[1;33m(\u001b[0m\u001b[0mmodelVensim\u001b[0m\u001b[1;33m)\u001b[0m \u001b[1;32mas\u001b[0m \u001b[0mevaluator\u001b[0m\u001b[1;33m:\u001b[0m\u001b[1;33m\u001b[0m\u001b[1;33m\u001b[0m\u001b[0m\n\u001b[0m\u001b[0;32m      3\u001b[0m     \u001b[0mresultsVensim\u001b[0m \u001b[1;33m=\u001b[0m \u001b[0mperform_experiments\u001b[0m\u001b[1;33m(\u001b[0m\u001b[0mmodelVensim\u001b[0m\u001b[1;33m,\u001b[0m \u001b[1;36m50\u001b[0m\u001b[1;33m,\u001b[0m \u001b[0mevaluator\u001b[0m\u001b[1;33m=\u001b[0m\u001b[0mevaluator\u001b[0m\u001b[1;33m)\u001b[0m\u001b[1;33m\u001b[0m\u001b[1;33m\u001b[0m\u001b[0m\n",
      "\u001b[1;32m~\\Anaconda3\\lib\\site-packages\\ema_workbench\\em_framework\\evaluators.py\u001b[0m in \u001b[0;36m__enter__\u001b[1;34m(self)\u001b[0m\n\u001b[0;32m     93\u001b[0m \u001b[1;33m\u001b[0m\u001b[0m\n\u001b[0;32m     94\u001b[0m     \u001b[1;32mdef\u001b[0m \u001b[0m__enter__\u001b[0m\u001b[1;33m(\u001b[0m\u001b[0mself\u001b[0m\u001b[1;33m)\u001b[0m\u001b[1;33m:\u001b[0m\u001b[1;33m\u001b[0m\u001b[1;33m\u001b[0m\u001b[0m\n\u001b[1;32m---> 95\u001b[1;33m         \u001b[0mself\u001b[0m\u001b[1;33m.\u001b[0m\u001b[0minitialize\u001b[0m\u001b[1;33m(\u001b[0m\u001b[1;33m)\u001b[0m\u001b[1;33m\u001b[0m\u001b[1;33m\u001b[0m\u001b[0m\n\u001b[0m\u001b[0;32m     96\u001b[0m         \u001b[1;32mreturn\u001b[0m \u001b[0mself\u001b[0m\u001b[1;33m\u001b[0m\u001b[1;33m\u001b[0m\u001b[0m\n\u001b[0;32m     97\u001b[0m \u001b[1;33m\u001b[0m\u001b[0m\n",
      "\u001b[1;32m~\\Anaconda3\\lib\\site-packages\\ema_workbench\\em_framework\\evaluators.py\u001b[0m in \u001b[0;36minitialize\u001b[1;34m(self)\u001b[0m\n\u001b[0;32m    264\u001b[0m \u001b[1;33m\u001b[0m\u001b[0m\n\u001b[0;32m    265\u001b[0m         \u001b[1;31m# check if we need a working directory\u001b[0m\u001b[1;33m\u001b[0m\u001b[1;33m\u001b[0m\u001b[1;33m\u001b[0m\u001b[0m\n\u001b[1;32m--> 266\u001b[1;33m         \u001b[1;32mfor\u001b[0m \u001b[0mmodel\u001b[0m \u001b[1;32min\u001b[0m \u001b[0mself\u001b[0m\u001b[1;33m.\u001b[0m\u001b[0m_msis\u001b[0m\u001b[1;33m:\u001b[0m\u001b[1;33m\u001b[0m\u001b[1;33m\u001b[0m\u001b[0m\n\u001b[0m\u001b[0;32m    267\u001b[0m             \u001b[1;32mtry\u001b[0m\u001b[1;33m:\u001b[0m\u001b[1;33m\u001b[0m\u001b[1;33m\u001b[0m\u001b[0m\n\u001b[0;32m    268\u001b[0m                 \u001b[0mmodel\u001b[0m\u001b[1;33m.\u001b[0m\u001b[0mworking_directory\u001b[0m\u001b[1;33m\u001b[0m\u001b[1;33m\u001b[0m\u001b[0m\n",
      "\u001b[1;31mTypeError\u001b[0m: 'Model' object is not iterable"
     ]
    }
   ],
   "source": [
    "#running experiments - Vensim - NOT WORKING\n",
    "with MultiprocessingEvaluator(modelVensim) as evaluator:\n",
    "    resultsVensim = perform_experiments(modelVensim, 50, evaluator=evaluator)"
   ]
  },
  {
   "cell_type": "code",
   "execution_count": null,
   "metadata": {},
   "outputs": [],
   "source": []
  }
 ],
 "metadata": {
  "kernelspec": {
   "display_name": "Python 3",
   "language": "python",
   "name": "python3"
  },
  "language_info": {
   "codemirror_mode": {
    "name": "ipython",
    "version": 3
   },
   "file_extension": ".py",
   "mimetype": "text/x-python",
   "name": "python",
   "nbconvert_exporter": "python",
   "pygments_lexer": "ipython3",
   "version": "3.7.6"
  }
 },
 "nbformat": 4,
 "nbformat_minor": 4
}

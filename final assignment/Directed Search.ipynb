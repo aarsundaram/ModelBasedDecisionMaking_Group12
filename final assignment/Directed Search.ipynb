{
 "cells": [
  {
   "cell_type": "markdown",
   "metadata": {},
   "source": [
    "# Directed Search\n",
    "\n",
    "What do we want to include in the Directed Search?\n",
    " - check for convergence? How many nfe are needed given epsilon 0.05?\n",
    " - are there any constraints present\n",
    " - search over the levers\n",
    " - discover the worst case scenario: what are the best scenarios in this case?"
   ]
  },
  {
   "cell_type": "code",
   "execution_count": 1,
   "metadata": {},
   "outputs": [],
   "source": [
    "import numpy as np\n",
    "import scipy as sp\n",
    "import pandas as pd\n",
    "import matplotlib.pyplot as plt\n",
    "import seaborn as sns\n",
    "import networkx as nx\n",
    "import time"
   ]
  },
  {
   "cell_type": "code",
   "execution_count": 2,
   "metadata": {},
   "outputs": [],
   "source": [
    "from ema_workbench import (Model, CategoricalParameter,\n",
    "                           ScalarOutcome, IntegerParameter, RealParameter)\n",
    "from dike_model_function import DikeNetwork  # @UnresolvedImport\n",
    "\n",
    "\n",
    "def sum_over(*args):\n",
    "    return sum(args)"
   ]
  },
  {
   "cell_type": "code",
   "execution_count": 3,
   "metadata": {},
   "outputs": [],
   "source": [
    "from ema_workbench import (Model, MultiprocessingEvaluator, Policy, Scenario)\n",
    "\n",
    "from ema_workbench.em_framework.evaluators import perform_experiments\n",
    "from ema_workbench.em_framework.samplers import sample_uncertainties\n",
    "from ema_workbench.util import ema_logging\n",
    "import time\n",
    "from problem_formulation import get_model_for_problem_formulation\n",
    "\n",
    "\n",
    "ema_logging.log_to_stderr(ema_logging.INFO)\n",
    "\n",
    "#choose problem formulation number, between 0-5\n",
    "#each problem formulation has its own list of outcomes\n",
    "dike_model, planning_steps = get_model_for_problem_formulation(5)"
   ]
  },
  {
   "cell_type": "code",
   "execution_count": 4,
   "metadata": {},
   "outputs": [
    {
     "name": "stdout",
     "output_type": "stream",
     "text": [
      "ScalarOutcome('A.1_Expected Annual Damage 0')\n",
      "ScalarOutcome('A.1_Dike Investment Costs 0')\n",
      "ScalarOutcome('A.1_Expected Number of Deaths 0')\n",
      "ScalarOutcome('A.2_Expected Annual Damage 0')\n",
      "ScalarOutcome('A.2_Dike Investment Costs 0')\n",
      "ScalarOutcome('A.2_Expected Number of Deaths 0')\n",
      "ScalarOutcome('A.3_Expected Annual Damage 0')\n",
      "ScalarOutcome('A.3_Dike Investment Costs 0')\n",
      "ScalarOutcome('A.3_Expected Number of Deaths 0')\n",
      "ScalarOutcome('A.4_Expected Annual Damage 0')\n",
      "ScalarOutcome('A.4_Dike Investment Costs 0')\n",
      "ScalarOutcome('A.4_Expected Number of Deaths 0')\n",
      "ScalarOutcome('A.5_Expected Annual Damage 0')\n",
      "ScalarOutcome('A.5_Dike Investment Costs 0')\n",
      "ScalarOutcome('A.5_Expected Number of Deaths 0')\n",
      "ScalarOutcome('RfR Total Costs 0')\n",
      "ScalarOutcome('Expected Evacuation Costs 0')\n",
      "ScalarOutcome('A.1_Expected Annual Damage 1')\n",
      "ScalarOutcome('A.1_Dike Investment Costs 1')\n",
      "ScalarOutcome('A.1_Expected Number of Deaths 1')\n",
      "ScalarOutcome('A.2_Expected Annual Damage 1')\n",
      "ScalarOutcome('A.2_Dike Investment Costs 1')\n",
      "ScalarOutcome('A.2_Expected Number of Deaths 1')\n",
      "ScalarOutcome('A.3_Expected Annual Damage 1')\n",
      "ScalarOutcome('A.3_Dike Investment Costs 1')\n",
      "ScalarOutcome('A.3_Expected Number of Deaths 1')\n",
      "ScalarOutcome('A.4_Expected Annual Damage 1')\n",
      "ScalarOutcome('A.4_Dike Investment Costs 1')\n",
      "ScalarOutcome('A.4_Expected Number of Deaths 1')\n",
      "ScalarOutcome('A.5_Expected Annual Damage 1')\n",
      "ScalarOutcome('A.5_Dike Investment Costs 1')\n",
      "ScalarOutcome('A.5_Expected Number of Deaths 1')\n",
      "ScalarOutcome('RfR Total Costs 1')\n",
      "ScalarOutcome('Expected Evacuation Costs 1')\n",
      "ScalarOutcome('A.1_Expected Annual Damage 2')\n",
      "ScalarOutcome('A.1_Dike Investment Costs 2')\n",
      "ScalarOutcome('A.1_Expected Number of Deaths 2')\n",
      "ScalarOutcome('A.2_Expected Annual Damage 2')\n",
      "ScalarOutcome('A.2_Dike Investment Costs 2')\n",
      "ScalarOutcome('A.2_Expected Number of Deaths 2')\n",
      "ScalarOutcome('A.3_Expected Annual Damage 2')\n",
      "ScalarOutcome('A.3_Dike Investment Costs 2')\n",
      "ScalarOutcome('A.3_Expected Number of Deaths 2')\n",
      "ScalarOutcome('A.4_Expected Annual Damage 2')\n",
      "ScalarOutcome('A.4_Dike Investment Costs 2')\n",
      "ScalarOutcome('A.4_Expected Number of Deaths 2')\n",
      "ScalarOutcome('A.5_Expected Annual Damage 2')\n",
      "ScalarOutcome('A.5_Dike Investment Costs 2')\n",
      "ScalarOutcome('A.5_Expected Number of Deaths 2')\n",
      "ScalarOutcome('RfR Total Costs 2')\n",
      "ScalarOutcome('Expected Evacuation Costs 2')\n",
      "ScalarOutcome('A.1_Expected Annual Damage 3')\n",
      "ScalarOutcome('A.1_Dike Investment Costs 3')\n",
      "ScalarOutcome('A.1_Expected Number of Deaths 3')\n",
      "ScalarOutcome('A.2_Expected Annual Damage 3')\n",
      "ScalarOutcome('A.2_Dike Investment Costs 3')\n",
      "ScalarOutcome('A.2_Expected Number of Deaths 3')\n",
      "ScalarOutcome('A.3_Expected Annual Damage 3')\n",
      "ScalarOutcome('A.3_Dike Investment Costs 3')\n",
      "ScalarOutcome('A.3_Expected Number of Deaths 3')\n",
      "ScalarOutcome('A.4_Expected Annual Damage 3')\n",
      "ScalarOutcome('A.4_Dike Investment Costs 3')\n",
      "ScalarOutcome('A.4_Expected Number of Deaths 3')\n",
      "ScalarOutcome('A.5_Expected Annual Damage 3')\n",
      "ScalarOutcome('A.5_Dike Investment Costs 3')\n",
      "ScalarOutcome('A.5_Expected Number of Deaths 3')\n",
      "ScalarOutcome('RfR Total Costs 3')\n",
      "ScalarOutcome('Expected Evacuation Costs 3')\n"
     ]
    }
   ],
   "source": [
    "#enlisting outcomes\n",
    "for outcome in dike_model.outcomes:\n",
    "    print(repr(outcome))"
   ]
  },
  {
   "cell_type": "code",
   "execution_count": 5,
   "metadata": {},
   "outputs": [
    {
     "name": "stdout",
     "output_type": "stream",
     "text": [
      "CategoricalParameter('discount rate 0', [0, 1, 2, 3])\n",
      "CategoricalParameter('discount rate 1', [0, 1, 2, 3])\n",
      "CategoricalParameter('discount rate 2', [0, 1, 2, 3])\n",
      "CategoricalParameter('discount rate 3', [0, 1, 2, 3])\n",
      "IntegerParameter('A.0_ID flood wave shape', 0, 132)\n",
      "RealParameter('A.1_Bmax', 30, 350)\n",
      "RealParameter('A.1_pfail', 0, 1)\n",
      "CategoricalParameter('A.1_Brate', [0, 1, 2])\n",
      "RealParameter('A.2_Bmax', 30, 350)\n",
      "RealParameter('A.2_pfail', 0, 1)\n",
      "CategoricalParameter('A.2_Brate', [0, 1, 2])\n",
      "RealParameter('A.3_Bmax', 30, 350)\n",
      "RealParameter('A.3_pfail', 0, 1)\n",
      "CategoricalParameter('A.3_Brate', [0, 1, 2])\n",
      "RealParameter('A.4_Bmax', 30, 350)\n",
      "RealParameter('A.4_pfail', 0, 1)\n",
      "CategoricalParameter('A.4_Brate', [0, 1, 2])\n",
      "RealParameter('A.5_Bmax', 30, 350)\n",
      "RealParameter('A.5_pfail', 0, 1)\n",
      "CategoricalParameter('A.5_Brate', [0, 1, 2])\n"
     ]
    }
   ],
   "source": [
    "#enlisting uncertainties, their types (RealParameter/IntegerParameter/CategoricalParameter), lower boundary, and upper boundary\n",
    "for unc in dike_model.uncertainties:\n",
    "    print(repr(unc))\n",
    "    \n",
    "uncertainties = dike_model.uncertainties\n",
    "\n",
    "import copy\n",
    "uncertainties = copy.deepcopy(dike_model.uncertainties)"
   ]
  },
  {
   "cell_type": "code",
   "execution_count": 6,
   "metadata": {},
   "outputs": [
    {
     "name": "stdout",
     "output_type": "stream",
     "text": [
      "IntegerParameter('0_RfR 0', 0, 1)\n",
      "IntegerParameter('0_RfR 1', 0, 1)\n",
      "IntegerParameter('0_RfR 2', 0, 1)\n",
      "IntegerParameter('0_RfR 3', 0, 1)\n",
      "IntegerParameter('1_RfR 0', 0, 1)\n",
      "IntegerParameter('1_RfR 1', 0, 1)\n",
      "IntegerParameter('1_RfR 2', 0, 1)\n",
      "IntegerParameter('1_RfR 3', 0, 1)\n",
      "IntegerParameter('2_RfR 0', 0, 1)\n",
      "IntegerParameter('2_RfR 1', 0, 1)\n",
      "IntegerParameter('2_RfR 2', 0, 1)\n",
      "IntegerParameter('2_RfR 3', 0, 1)\n",
      "IntegerParameter('3_RfR 0', 0, 1)\n",
      "IntegerParameter('3_RfR 1', 0, 1)\n",
      "IntegerParameter('3_RfR 2', 0, 1)\n",
      "IntegerParameter('3_RfR 3', 0, 1)\n",
      "IntegerParameter('4_RfR 0', 0, 1)\n",
      "IntegerParameter('4_RfR 1', 0, 1)\n",
      "IntegerParameter('4_RfR 2', 0, 1)\n",
      "IntegerParameter('4_RfR 3', 0, 1)\n",
      "IntegerParameter('EWS_DaysToThreat', 0, 4)\n",
      "IntegerParameter('A.1_DikeIncrease 0', 0, 10)\n",
      "IntegerParameter('A.1_DikeIncrease 1', 0, 10)\n",
      "IntegerParameter('A.1_DikeIncrease 2', 0, 10)\n",
      "IntegerParameter('A.1_DikeIncrease 3', 0, 10)\n",
      "IntegerParameter('A.2_DikeIncrease 0', 0, 10)\n",
      "IntegerParameter('A.2_DikeIncrease 1', 0, 10)\n",
      "IntegerParameter('A.2_DikeIncrease 2', 0, 10)\n",
      "IntegerParameter('A.2_DikeIncrease 3', 0, 10)\n",
      "IntegerParameter('A.3_DikeIncrease 0', 0, 10)\n",
      "IntegerParameter('A.3_DikeIncrease 1', 0, 10)\n",
      "IntegerParameter('A.3_DikeIncrease 2', 0, 10)\n",
      "IntegerParameter('A.3_DikeIncrease 3', 0, 10)\n",
      "IntegerParameter('A.4_DikeIncrease 0', 0, 10)\n",
      "IntegerParameter('A.4_DikeIncrease 1', 0, 10)\n",
      "IntegerParameter('A.4_DikeIncrease 2', 0, 10)\n",
      "IntegerParameter('A.4_DikeIncrease 3', 0, 10)\n",
      "IntegerParameter('A.5_DikeIncrease 0', 0, 10)\n",
      "IntegerParameter('A.5_DikeIncrease 1', 0, 10)\n",
      "IntegerParameter('A.5_DikeIncrease 2', 0, 10)\n",
      "IntegerParameter('A.5_DikeIncrease 3', 0, 10)\n"
     ]
    }
   ],
   "source": [
    "#enlisting policy levers, their types (RealParameter/IntegerParameter), lower boundary, and upper boundary\n",
    "for policy in dike_model.levers:\n",
    "    print(repr(policy))\n",
    "    \n",
    "levers = dike_model.levers \n",
    "\n",
    "import copy\n",
    "levers = copy.deepcopy(dike_model.levers)"
   ]
  },
  {
   "cell_type": "markdown",
   "metadata": {},
   "source": [
    "## Check for Convergence given e = 0.05 for all outcomes"
   ]
  },
  {
   "cell_type": "code",
   "execution_count": null,
   "metadata": {},
   "outputs": [
    {
     "name": "stderr",
     "output_type": "stream",
     "text": [
      "[MainProcess/INFO] pool started\n",
      "[MainProcess/INFO] generation 0: 0/10 nfe\n"
     ]
    }
   ],
   "source": [
    "from ema_workbench import MultiprocessingEvaluator, ema_logging\n",
    "\n",
    "ema_logging.log_to_stderr(ema_logging.INFO)\n",
    "\n",
    "with MultiprocessingEvaluator(dike_model) as evaluator:\n",
    "    results = evaluator.optimize(nfe=10, searchover='levers',\n",
    "                                 epsilons=[0.1,]*len(dike_model.outcomes))\n"
   ]
  },
  {
   "cell_type": "code",
   "execution_count": null,
   "metadata": {},
   "outputs": [],
   "source": [
    "from ema_workbench.em_framework.optimization import (HyperVolume,\n",
    "                                                     EpsilonProgress)\n",
    "\n",
    "convergence_metrics = [HyperVolume(minimum=[0,0,0,0], maximum=[1,1.01,1.01,1.01]),\n",
    "                       EpsilonProgress()]\n",
    "\n",
    "with MultiprocessingEvaluator(dike_model) as evaluator:\n",
    "    results, convergence = evaluator.optimize(nfe=10, searchover='levers',\n",
    "                                    epsilons=[0.05,]*len(dike_model.outcomes),\n",
    "                                    convergence=convergence_metrics)\n",
    "\n",
    "fig, (ax1, ax2) = plt.subplots(ncols=2, sharex=True, figsize=(8,4))\n",
    "ax1.plot(convergence.nfe, convergence.epsilon_progress)\n",
    "ax1.set_ylabel('$\\epsilon$-progress')\n",
    "ax2.plot(convergence.nfe, convergence.hypervolume)\n",
    "ax2.set_ylabel('hypervolume')\n",
    "\n",
    "ax1.set_xlabel('number of function evaluations')\n",
    "ax2.set_xlabel('number of function evaluations')\n",
    "plt.show()"
   ]
  },
  {
   "cell_type": "code",
   "execution_count": null,
   "metadata": {},
   "outputs": [],
   "source": []
  }
 ],
 "metadata": {
  "kernelspec": {
   "display_name": "Python 3",
   "language": "python",
   "name": "python3"
  },
  "language_info": {
   "codemirror_mode": {
    "name": "ipython",
    "version": 3
   },
   "file_extension": ".py",
   "mimetype": "text/x-python",
   "name": "python",
   "nbconvert_exporter": "python",
   "pygments_lexer": "ipython3",
   "version": "3.7.3"
  }
 },
 "nbformat": 4,
 "nbformat_minor": 4
}
